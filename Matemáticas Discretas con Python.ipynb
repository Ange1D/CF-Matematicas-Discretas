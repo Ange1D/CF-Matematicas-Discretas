{
  "cells": [
    {
      "cell_type": "markdown",
      "metadata": {
        "colab_type": "text",
        "id": "view-in-github"
      },
      "source": [
        "<a href=\"https://colab.research.google.com/github/LaMatemaga/CF-Matematicas-Discretas/blob/main/Matem%C3%A1ticas%20Discretas%20con%20Python.ipynb\" target=\"_parent\"><img src=\"https://colab.research.google.com/assets/colab-badge.svg\" alt=\"Open In Colab\"/></a>"
      ]
    },
    {
      "cell_type": "markdown",
      "metadata": {
        "id": "vWqaKTj4y7Ta"
      },
      "source": [
        "# Matemáticas Discretas\n",
        "\n",
        "¡Hola! Bienvenidxs a la última sesión del módulo de Matemáticas Discretas. En esta sesión estaremos utilizando lo que hemos visto hasta el momento pero implementándolo en Python.\n",
        "\n",
        "Esta libreta de Google Colaboratory está dividida en dos secciónes:\n",
        "1. **Lógica Proposicional:** \n",
        "  * Repaso de Lógica Proposicional con sus tablas de verdad en Python.\n",
        "  * Creación de nuevas tablas de verdad.\n",
        "  * Ejercicios donde sea necesario resolver mediante lógica proposicional.\n",
        "2. **Teoría de Conjuntos:**\n",
        "  * Repaso de Teoría de Conjuntos con Python.\n",
        "  * Ejercicios donde se puedan visualizar conjuntos.\n",
        "  * Simulación de SQL en Python.\n",
        "\n",
        "El contenido de **Teoría de Grafos** se enviará esta semana en otra libreta de Google Colaboratory y te hará un tutorial de cómo manejar algunos conceptos de grafos en Python. Además, en la misma libreta de Colab te daré algunas ideas de proyectos guiados que pudieran ayudarte a iniciar en Ciencia de Datos en caso de que estés interesadx.\n",
        "\n",
        "Antes de continuar, te pediremos que corras la siguiente celda para que puedas incializar todas las paqueterías de Python que estaremos utilizando (Pandas y Numpy). Es necesario correr las celdas porque si no el resto del colab pudiera tener problemas."
      ]
    },
    {
      "cell_type": "code",
      "execution_count": 1,
      "metadata": {
        "cellView": "form",
        "id": "CyPv7cjHd4Kx"
      },
      "outputs": [
        {
          "name": "stderr",
          "output_type": "stream",
          "text": [
            "WARNING: Ignoring invalid distribution -umpy (c:\\program files\\python310\\lib\\site-packages)\n",
            "WARNING: Ignoring invalid distribution -umpy (c:\\program files\\python310\\lib\\site-packages)\n",
            "WARNING: Ignoring invalid distribution -umpy (c:\\program files\\python310\\lib\\site-packages)\n",
            "WARNING: Ignoring invalid distribution -umpy (c:\\program files\\python310\\lib\\site-packages)\n",
            "WARNING: Ignoring invalid distribution -umpy (c:\\program files\\python310\\lib\\site-packages)\n",
            "WARNING: Ignoring invalid distribution -umpy (c:\\program files\\python310\\lib\\site-packages)\n",
            "WARNING: You are using pip version 21.2.4; however, version 22.1.2 is available.\n",
            "You should consider upgrading via the 'C:\\Program Files\\Python310\\python.exe -m pip install --upgrade pip' command.\n",
            "WARNING: Ignoring invalid distribution -umpy (c:\\program files\\python310\\lib\\site-packages)\n",
            "WARNING: Ignoring invalid distribution -umpy (c:\\program files\\python310\\lib\\site-packages)\n",
            "WARNING: Ignoring invalid distribution -umpy (c:\\program files\\python310\\lib\\site-packages)\n",
            "WARNING: Ignoring invalid distribution -umpy (c:\\program files\\python310\\lib\\site-packages)\n",
            "WARNING: Ignoring invalid distribution -umpy (c:\\program files\\python310\\lib\\site-packages)\n",
            "WARNING: Ignoring invalid distribution -umpy (c:\\program files\\python310\\lib\\site-packages)\n",
            "WARNING: You are using pip version 21.2.4; however, version 22.1.2 is available.\n",
            "You should consider upgrading via the 'C:\\Program Files\\Python310\\python.exe -m pip install --upgrade pip' command.\n"
          ]
        }
      ],
      "source": [
        "# @title Instalación de paqueterías y actualizaciones necesarias para hacer los ejercicios\n",
        "\n",
        "# Actualizar librerías\n",
        "!pip install pandas --upgrade --quiet\n",
        "!pip install numpy --upgrade --quiet\n",
        "\n",
        "import pandas as pd\n",
        "import itertools\n"
      ]
    },
    {
      "cell_type": "markdown",
      "metadata": {
        "id": "-PFcCRgTzRxK"
      },
      "source": [
        "# Lógica Proposicional"
      ]
    },
    {
      "cell_type": "code",
      "execution_count": 2,
      "metadata": {
        "cellView": "form",
        "id": "AqQe7S3M1K50"
      },
      "outputs": [],
      "source": [
        "# @title Inicialización de Variables\n",
        "\n",
        "# Variables que usaremos para las proposiciones: A, B, C, P, Q, R.\n",
        "C = [True, False]\n",
        "A = [True, True, False, False]\n",
        "B = [True, False, True, False]\n",
        "P = [True, True, True, True, False, False, False, False]\n",
        "Q = [True, True, False, False, True, True, False, False]\n",
        "R = [True, False, True, False, True, False, True, False]"
      ]
    },
    {
      "cell_type": "markdown",
      "metadata": {
        "id": "UzrmbH6WqdTd"
      },
      "source": [
        "## Repaso de Lógica Proposicional\n",
        "\n",
        "Recordemos que los operadores lógicos son:\n",
        "1. Negación (NOT)\n",
        "2. Conjunción (AND)\n",
        "3. Disyunción (OR)\n",
        "4. Disyunción exclusiva (XOR)\n",
        "5. (Buffer)\n",
        "6. (NAND)\n",
        "7. (NOR)\n",
        "8. (XNOR)\n",
        "9. Condicional (THEN)\n",
        "10. Bicondicional (IFF)"
      ]
    },
    {
      "cell_type": "markdown",
      "metadata": {
        "id": "3CCBoN6B4bYF"
      },
      "source": [
        "### Negación (Not)\n",
        "La tabla de verdad asociada a la operación booleana `not` es la siguiente:\n",
        "\n",
        "|  C  | not C |\n",
        "|:---:|:-----:|\n",
        "|  T  |   F   |\n",
        "|  F  |   T   |"
      ]
    },
    {
      "cell_type": "code",
      "execution_count": 3,
      "metadata": {
        "id": "nEPXs1mD5TNX"
      },
      "outputs": [
        {
          "name": "stdout",
          "output_type": "stream",
          "text": [
            "[False, True]\n"
          ]
        }
      ],
      "source": [
        "########################################################################\n",
        "## POR HACER por los estudiantes\n",
        "## Completa todos los ... en el código debajo y quita la siguiente línea\n",
        "#raise NotImplementedError(\"Aplica el operador lógico.\")\n",
        "########################################################################\n",
        "\n",
        "notC = [None]*2\n",
        "for i in range(2):\n",
        "  notC[i] = not C[i]\n",
        "\n",
        "print(notC)"
      ]
    },
    {
      "cell_type": "code",
      "execution_count": 4,
      "metadata": {
        "id": "Lc8lUyoq5hrH"
      },
      "outputs": [
        {
          "name": "stdout",
          "output_type": "stream",
          "text": [
            "       C  Not C\n",
            "0   True  False\n",
            "1  False   True\n"
          ]
        }
      ],
      "source": [
        "########################################################################\n",
        "## POR HACER por los estudiantes\n",
        "## Completa todos los ... en el código debajo y quita la siguiente línea\n",
        "#raise NotImplementedError(\"Convierte a dataframe e imprìmelo.\")\n",
        "########################################################################\n",
        "\n",
        "tablaNOT = {'C': C, 'Not C': notC}\n",
        "tablaNOT_df = pd.DataFrame(tablaNOT)\n",
        "\n",
        "print(tablaNOT_df)"
      ]
    },
    {
      "cell_type": "markdown",
      "metadata": {
        "id": "8M6EoK_G2vQq"
      },
      "source": [
        "### Conjunción (And)\n",
        "La tabla de verdad asociada a la operación booleana `and` es la siguiente:\n",
        "\n",
        "|  A  |  B  | A and B |\n",
        "|:---:|:---:|:-------:|\n",
        "|  T  |  T  |    T    |\n",
        "|  T  |  F  |    F    |\n",
        "|  F  |  T  |    F    |\n",
        "|  F  |  F  |    F    |"
      ]
    },
    {
      "cell_type": "code",
      "execution_count": 5,
      "metadata": {
        "id": "0U767LGK3jWR"
      },
      "outputs": [
        {
          "name": "stdout",
          "output_type": "stream",
          "text": [
            "[True, False, False, False]\n"
          ]
        }
      ],
      "source": [
        "########################################################################\n",
        "## POR HACER por los estudiantes\n",
        "## Completa todos los ... en el código debajo y quita la siguiente línea\n",
        "# raise NotImplementedError(\"Aplica el operador lógico.\")\n",
        "########################################################################\n",
        "\n",
        "AandB = [None]*4\n",
        "for i in range(4):\n",
        "  AandB[i] = A[i] and B[i]\n",
        "\n",
        "print(AandB)"
      ]
    },
    {
      "cell_type": "code",
      "execution_count": 7,
      "metadata": {
        "id": "yZ9iTi0Re6-m"
      },
      "outputs": [
        {
          "name": "stdout",
          "output_type": "stream",
          "text": [
            "       A      B  A and B\n",
            "0   True   True     True\n",
            "1   True  False    False\n",
            "2  False   True    False\n",
            "3  False  False    False\n"
          ]
        }
      ],
      "source": [
        "########################################################################\n",
        "## POR HACER por los estudiantes\n",
        "## Completa todos los ... en el código debajo y quita la siguiente línea\n",
        "# raise NotImplementedError(\"Convierte a dataframe e imprìmelo.\")\n",
        "########################################################################\n",
        "\n",
        "tablaAND = {'A': A, 'B': B, 'A and B': AandB}\n",
        "tablaAND_df = pd.DataFrame(tablaAND)\n",
        "\n",
        "print(tablaAND_df)"
      ]
    },
    {
      "cell_type": "markdown",
      "metadata": {
        "id": "jTkhXXai2mWP"
      },
      "source": [
        "### Disyunción (Or)\n",
        "La tabla de verdad asociada a la operación booleana `or` es la siguiente:\n",
        "\n",
        "|  A  |  B  | A or B  |\n",
        "|:---:|:---:|:-------:|\n",
        "|  T  |  T  |    T    |\n",
        "|  T  |  F  |    T    |\n",
        "|  F  |  T  |    T    |\n",
        "|  F  |  F  |    F    |"
      ]
    },
    {
      "cell_type": "code",
      "execution_count": 8,
      "metadata": {
        "id": "hl3hFkwc26o4"
      },
      "outputs": [
        {
          "name": "stdout",
          "output_type": "stream",
          "text": [
            "[True, True, True, False]\n"
          ]
        }
      ],
      "source": [
        "########################################################################\n",
        "## POR HACER por los estudiantes\n",
        "## Completa todos los ... en el código debajo y quita la siguiente línea\n",
        "# raise NotImplementedError(\"Aplica el operador lógico.\")\n",
        "########################################################################\n",
        "\n",
        "AorB = [None]*4\n",
        "for i in range(4):\n",
        "  AorB[i] = A[i] or B[i]\n",
        "\n",
        "print(AorB)"
      ]
    },
    {
      "cell_type": "code",
      "execution_count": 9,
      "metadata": {
        "id": "QfNAJBrm0iKF"
      },
      "outputs": [
        {
          "name": "stdout",
          "output_type": "stream",
          "text": [
            "       A      B  A or B\n",
            "0   True   True    True\n",
            "1   True  False    True\n",
            "2  False   True    True\n",
            "3  False  False   False\n"
          ]
        }
      ],
      "source": [
        "########################################################################\n",
        "## POR HACER por los estudiantes\n",
        "## Completa todos los ... en el código debajo y quita la siguiente línea\n",
        "# raise NotImplementedError(\"Convierte a dataframe e imprìmelo.\")\n",
        "########################################################################\n",
        "\n",
        "tablaOR = {'A': A, 'B': B, 'A or B': AorB}\n",
        "tablaOR_df = pd.DataFrame(tablaOR)\n",
        "\n",
        "print(tablaOR_df)"
      ]
    },
    {
      "cell_type": "markdown",
      "metadata": {
        "id": "ZD7eXbRWhvWk"
      },
      "source": [
        "### Disyunción exclusiva (XOR)\n",
        "La tabla de verdad asociada a la operación booleana `xor` es la siguiente:\n",
        "\n",
        "|  A  |  B  | A xor B |\n",
        "|:---:|:---:|:-------:|\n",
        "|  T  |  T  |    F    |\n",
        "|  T  |  F  |    T    |\n",
        "|  F  |  T  |    T    |\n",
        "|  F  |  F  |    F    |"
      ]
    },
    {
      "cell_type": "code",
      "execution_count": 10,
      "metadata": {
        "id": "RGctWDb1hy5z"
      },
      "outputs": [
        {
          "name": "stdout",
          "output_type": "stream",
          "text": [
            "[False, True, True, False]\n"
          ]
        }
      ],
      "source": [
        "########################################################################\n",
        "## POR HACER por los estudiantes\n",
        "## Completa todos los ... en el código debajo y quita la siguiente línea\n",
        "# raise NotImplementedError(\"Aplica el operador lógico.\")\n",
        "########################################################################\n",
        "\n",
        "AxorB = [None]*4\n",
        "for i in range(4):\n",
        "  AxorB[i] = A[i] ^ B[i]\n",
        "\n",
        "print(AxorB)"
      ]
    },
    {
      "cell_type": "code",
      "execution_count": 11,
      "metadata": {
        "id": "jbvqfl2NiK5R"
      },
      "outputs": [
        {
          "name": "stdout",
          "output_type": "stream",
          "text": [
            "       A      B  A xor B\n",
            "0   True   True    False\n",
            "1   True  False     True\n",
            "2  False   True     True\n",
            "3  False  False    False\n"
          ]
        }
      ],
      "source": [
        "########################################################################\n",
        "## POR HACER por los estudiantes\n",
        "## Completa todos los ... en el código debajo y quita la siguiente línea\n",
        "# raise NotImplementedError(\"Convierte a dataframe e imprìmelo.\")\n",
        "########################################################################\n",
        "\n",
        "tablaXOR = {'A': A, 'B': B, 'A xor B': AxorB}\n",
        "tablaXOR_df = pd.DataFrame(tablaXOR)\n",
        "\n",
        "print(tablaXOR_df)"
      ]
    },
    {
      "cell_type": "markdown",
      "metadata": {
        "id": "7Ow3H7vAb58o"
      },
      "source": [
        "### NAND\n",
        "\n",
        "La tabla de verdad asociada a la operación booleana `nand` es la siguiente:\n",
        "\n",
        "|  A  |  B  | A nand B|\n",
        "|:---:|:---:|:-------:|\n",
        "|  T  |  T  |    F    |\n",
        "|  T  |  F  |    T    |\n",
        "|  F  |  T  |    T    |\n",
        "|  F  |  F  |    T    |"
      ]
    },
    {
      "cell_type": "code",
      "execution_count": 13,
      "metadata": {
        "id": "WhxlOCWgcEqO"
      },
      "outputs": [
        {
          "name": "stdout",
          "output_type": "stream",
          "text": [
            "[False, True, True, True]\n"
          ]
        }
      ],
      "source": [
        "########################################################################\n",
        "## POR HACER por los estudiantes\n",
        "## Completa todos los ... en el código debajo y quita la siguiente línea\n",
        "# raise NotImplementedError(\"Aplica el operador lógico.\")\n",
        "########################################################################\n",
        "\n",
        "AnandB = [None]*4\n",
        "for i in range(4):\n",
        "  AnandB[i] = not (A[i] and B[i])\n",
        "\n",
        "print(AnandB)"
      ]
    },
    {
      "cell_type": "code",
      "execution_count": 14,
      "metadata": {
        "id": "sCPdITBccIpB"
      },
      "outputs": [
        {
          "name": "stdout",
          "output_type": "stream",
          "text": [
            "       A      B  A nand B\n",
            "0   True   True     False\n",
            "1   True  False      True\n",
            "2  False   True      True\n",
            "3  False  False      True\n"
          ]
        }
      ],
      "source": [
        "########################################################################\n",
        "## POR HACER por los estudiantes\n",
        "## Completa todos los ... en el código debajo y quita la siguiente línea\n",
        "# raise NotImplementedError(\"Convierte a dataframe e imprìmelo.\")\n",
        "########################################################################\n",
        "\n",
        "tablaNAND = {'A': A, 'B': B, 'A nand B': AnandB}\n",
        "tablaNAND_df = pd.DataFrame(tablaNAND)\n",
        "\n",
        "print(tablaNAND_df)"
      ]
    },
    {
      "cell_type": "markdown",
      "metadata": {
        "id": "-Szq9onCpiQV"
      },
      "source": [
        "**Observación:** Es equivalente a la operación AND negada."
      ]
    },
    {
      "cell_type": "code",
      "execution_count": null,
      "metadata": {
        "id": "ek-KpmlhpiQX"
      },
      "outputs": [],
      "source": [
        "print(tablaAND)"
      ]
    },
    {
      "cell_type": "markdown",
      "metadata": {
        "id": "eYUA0sT2cM7P"
      },
      "source": [
        "### NOR\n",
        "\n",
        "La tabla de verdad asociada a la operación booleana `nor` es la siguiente:\n",
        "\n",
        "|  A  |  B  | A nor B |\n",
        "|:---:|:---:|:-------:|\n",
        "|  T  |  T  |    F    |\n",
        "|  T  |  F  |    F    |\n",
        "|  F  |  T  |    F    |\n",
        "|  F  |  F  |    T    |"
      ]
    },
    {
      "cell_type": "code",
      "execution_count": null,
      "metadata": {
        "id": "9fj8r0D5clGt"
      },
      "outputs": [],
      "source": [
        "########################################################################\n",
        "## POR HACER por los estudiantes\n",
        "## Completa todos los ... en el código debajo y quita la siguiente línea\n",
        "raise NotImplementedError(\"Aplica el operador lógico.\")\n",
        "########################################################################\n",
        "\n",
        "AnorB = [None]*4\n",
        "for i in range(4):\n",
        "  AnorB[i] = ...\n",
        "\n",
        "print(...)"
      ]
    },
    {
      "cell_type": "code",
      "execution_count": null,
      "metadata": {
        "id": "gi3vF7exctQO"
      },
      "outputs": [],
      "source": [
        "########################################################################\n",
        "## POR HACER por los estudiantes\n",
        "## Completa todos los ... en el código debajo y quita la siguiente línea\n",
        "raise NotImplementedError(\"Convierte a dataframe e imprìmelo.\")\n",
        "########################################################################\n",
        "\n",
        "tablaNOR = {'A': A, 'B': B, 'A nor B': ...}\n",
        "tablaNOR_df = pd.DataFrame(...)\n",
        "\n",
        "print(...)"
      ]
    },
    {
      "cell_type": "markdown",
      "metadata": {
        "id": "lECEXl6bpY_p"
      },
      "source": [
        "**Observación:** Es equivalente a la operación OR negada."
      ]
    },
    {
      "cell_type": "code",
      "execution_count": null,
      "metadata": {
        "id": "Fsoh-MyopY_r"
      },
      "outputs": [],
      "source": [
        "print(tablaOR)"
      ]
    },
    {
      "cell_type": "markdown",
      "metadata": {
        "id": "93GqmOOIcbCo"
      },
      "source": [
        "### XNOR\n",
        "\n",
        "La tabla de verdad asociada a la operación booleana `xnor` es la siguiente:\n",
        "\n",
        "|  A  |  B  | A xnor B|\n",
        "|:---:|:---:|:-------:|\n",
        "|  T  |  T  |    T    |\n",
        "|  T  |  F  |    F    |\n",
        "|  F  |  T  |    F    |\n",
        "|  F  |  F  |    T    |"
      ]
    },
    {
      "cell_type": "code",
      "execution_count": null,
      "metadata": {
        "id": "s1sOB5tMcpHb"
      },
      "outputs": [],
      "source": [
        "########################################################################\n",
        "## POR HACER por los estudiantes\n",
        "## Completa todos los ... en el código debajo y quita la siguiente línea\n",
        "raise NotImplementedError(\"Aplica el operador lógico.\")\n",
        "########################################################################\n",
        "\n",
        "AxnorB = [None]*4\n",
        "for i in range(4):\n",
        "  AxnorB[i] = ...\n",
        "\n",
        "print(...)"
      ]
    },
    {
      "cell_type": "code",
      "execution_count": null,
      "metadata": {
        "id": "SF-qYQ8Kcxhk"
      },
      "outputs": [],
      "source": [
        "########################################################################\n",
        "## POR HACER por los estudiantes\n",
        "## Completa todos los ... en el código debajo y quita la siguiente línea\n",
        "raise NotImplementedError(\"Convierte a dataframe e imprìmelo.\")\n",
        "########################################################################\n",
        "\n",
        "tablaXNOR = {'A': A, 'B': B, 'A xnor B': ...}\n",
        "tablaXNOR_df = pd.DataFrame(...)\n",
        "\n",
        "print(...)"
      ]
    },
    {
      "cell_type": "markdown",
      "metadata": {
        "id": "pJENjRHqpRre"
      },
      "source": [
        "**Observación:** Es equivalente a la operación XOR negada."
      ]
    },
    {
      "cell_type": "code",
      "execution_count": null,
      "metadata": {
        "id": "raBv4wl6pRrg"
      },
      "outputs": [],
      "source": [
        "print(tablaXOR)"
      ]
    },
    {
      "cell_type": "markdown",
      "metadata": {
        "id": "SD91dCPQSLWd"
      },
      "source": [
        "### Condicional (THEN)\n",
        "La tabla de verdad asociada a la operación booleana `then` es la siguiente:\n",
        "\n",
        "|  A  |  B  | A then B|\n",
        "|:---:|:---:|:-------:|\n",
        "|  T  |  T  |    T    |\n",
        "|  T  |  F  |    F    |\n",
        "|  F  |  T  |    T    |\n",
        "|  F  |  F  |    T    |"
      ]
    },
    {
      "cell_type": "code",
      "execution_count": null,
      "metadata": {
        "id": "rPWNcobTtsot"
      },
      "outputs": [],
      "source": [
        "########################################################################\n",
        "## POR HACER por los estudiantes\n",
        "## Completa todos los ... en el código debajo y quita la siguiente línea\n",
        "raise NotImplementedError(\"Aplica el operador lógico.\")\n",
        "########################################################################\n",
        "\n",
        "AthenB = [None]*4\n",
        "for i in range(4):\n",
        "  AthenB[i] = ...\n",
        "\n",
        "print(...)"
      ]
    },
    {
      "cell_type": "code",
      "execution_count": null,
      "metadata": {
        "id": "sSJFV0TlSZts"
      },
      "outputs": [],
      "source": [
        "########################################################################\n",
        "## POR HACER por los estudiantes\n",
        "## Completa todos los ... en el código debajo y quita la siguiente línea\n",
        "raise NotImplementedError(\"Convierte a dataframe e imprìmelo.\")\n",
        "########################################################################\n",
        "\n",
        "tablaTHEN = {'A': A, 'B': B, 'A then B': ...}\n",
        "tablaTHEN_df = pd.DataFrame(...)\n",
        "\n",
        "print(...)"
      ]
    },
    {
      "cell_type": "markdown",
      "metadata": {
        "id": "ClJW7Avhp3Ll"
      },
      "source": [
        "**Observación:** Es equivalente a la operación lógica $\\neg A \\vee B$"
      ]
    },
    {
      "cell_type": "code",
      "execution_count": null,
      "metadata": {
        "id": "LhZP0fAfqBal"
      },
      "outputs": [],
      "source": [
        "########################################################################\n",
        "## POR HACER por los estudiantes\n",
        "## Completa todos los ... en el código debajo y quita la siguiente línea\n",
        "raise NotImplementedError(\"Aplica el operador lógico.\")\n",
        "########################################################################\n",
        "\n",
        "notA    = [None]*4\n",
        "notAorB = [None]*4\n",
        "\n",
        "for i in range(4):\n",
        "  notA[i]    = ...\n",
        "  notAorB[i] = ...\n",
        "\n",
        "print(...)"
      ]
    },
    {
      "cell_type": "code",
      "execution_count": null,
      "metadata": {
        "id": "zVDAqVKjqb0C"
      },
      "outputs": [],
      "source": [
        "########################################################################\n",
        "## POR HACER por los estudiantes\n",
        "## Completa todos los ... en el código debajo y quita la siguiente línea\n",
        "raise NotImplementedError(\"Convierte a dataframe e imprìmelo.\")\n",
        "########################################################################\n",
        "\n",
        "tablaCOMPUESTA = {'A': A, 'B': B, 'not A': ..., 'not A or B': ...}\n",
        "tablaCOMPUESTA_df = pd.DataFrame(...)\n",
        "\n",
        "print(...)\n",
        "print(tablaTHEN_df)"
      ]
    },
    {
      "cell_type": "markdown",
      "metadata": {
        "id": "p2GmoydHSjpO"
      },
      "source": [
        "### Bicondicional (IFF)\n",
        "La tabla de verdad asociada a la operación booleana `iff` es la siguiente:\n",
        "\n",
        "|  A  |  B  | A iff B |\n",
        "|:---:|:---:|:-------:|\n",
        "|  T  |  T  |    T    |\n",
        "|  T  |  F  |    F    |\n",
        "|  F  |  T  |    F    |\n",
        "|  F  |  F  |    T    |"
      ]
    },
    {
      "cell_type": "code",
      "execution_count": null,
      "metadata": {
        "id": "6hylw-BnSjC4"
      },
      "outputs": [],
      "source": [
        "########################################################################\n",
        "## POR HACER por los estudiantes\n",
        "## Completa todos los ... en el código debajo y quita la siguiente línea\n",
        "raise NotImplementedError(\"Aplica el operador lógico.\")\n",
        "########################################################################\n",
        "\n",
        "AiffB = [None]*4\n",
        "for i in range(4):\n",
        "  AiffB[i] = ...\n",
        "\n",
        "print(...)"
      ]
    },
    {
      "cell_type": "code",
      "execution_count": null,
      "metadata": {
        "id": "Edvf1SYKS10X"
      },
      "outputs": [],
      "source": [
        "########################################################################\n",
        "## POR HACER por los estudiantes\n",
        "## Completa todos los ... en el código debajo y quita la siguiente línea\n",
        "raise NotImplementedError(\"Convierte a dataframe e imprìmelo.\")\n",
        "########################################################################\n",
        "\n",
        "tablaIFF = {'A': A, 'B': B, 'A then B': ...}\n",
        "tablaIFF_df = pd.DataFrame(...)\n",
        "\n",
        "print(...)"
      ]
    },
    {
      "cell_type": "markdown",
      "metadata": {
        "id": "QcDXprk0o7vd"
      },
      "source": [
        "**Observación:** Es equivalente a la operación XNOR."
      ]
    },
    {
      "cell_type": "code",
      "execution_count": null,
      "metadata": {
        "id": "uo8jvT-2pAQk"
      },
      "outputs": [],
      "source": [
        "print(tablaXNOR)"
      ]
    },
    {
      "cell_type": "markdown",
      "metadata": {
        "id": "j9Bvd8iaVHi2"
      },
      "source": [
        "## Ejercicios de Lógica Proposicional\n",
        "\n",
        "Escribe código que obtenga los valores de verdad de las siguientes proposiciones:\n",
        "1. $a \\wedge \\neg b$\n",
        "2. $(a \\wedge b) \\wedge \\neg a$\n",
        "3. $\\neg p \\vee \\neg(q \\wedge r)$\n",
        "4. $\\neg (p \\wedge q) \\vee (\\neg q \\vee r)$\n",
        "\n",
        "Recordatorio: Usar las variables `A` y `B` cuando se usen dos proposiciones y `P`, `Q`, `R` cuando se usen tres proposiciones"
      ]
    },
    {
      "cell_type": "code",
      "execution_count": null,
      "metadata": {
        "id": "J_oTs2OPXoFv"
      },
      "outputs": [],
      "source": [
        "########################################################################\n",
        "## POR HACER por los estudiantes\n",
        "## Escribe el código que genere la tabla de verdad para el ejercicio 1)\n",
        "raise NotImplementedError(\"Contesta el ejercicio 1.\")\n",
        "########################################################################"
      ]
    },
    {
      "cell_type": "code",
      "execution_count": null,
      "metadata": {
        "id": "jG0TZORFXojs"
      },
      "outputs": [],
      "source": [
        "########################################################################\n",
        "## POR HACER por los estudiantes\n",
        "## Escribe el código que genere la tabla de verdad para el ejercicio 2)\n",
        "raise NotImplementedError(\"Contesta el ejercicio 2.\")\n",
        "########################################################################"
      ]
    },
    {
      "cell_type": "code",
      "execution_count": null,
      "metadata": {
        "id": "e8q47pN6Xozl"
      },
      "outputs": [],
      "source": [
        "########################################################################\n",
        "## POR HACER por los estudiantes\n",
        "## Escribe el código que genere la tabla de verdad para el ejercicio 3)\n",
        "raise NotImplementedError(\"Contesta el ejercicio 3.\")\n",
        "########################################################################"
      ]
    },
    {
      "cell_type": "code",
      "execution_count": null,
      "metadata": {
        "id": "CP8aUinZXpYR"
      },
      "outputs": [],
      "source": [
        "########################################################################\n",
        "## POR HACER por los estudiantes\n",
        "## Escribe el código que genere la tabla de verdad para el ejercicio 4)\n",
        "raise NotImplementedError(\"Contesta el ejercicio 4.\")\n",
        "########################################################################"
      ]
    },
    {
      "cell_type": "markdown",
      "metadata": {
        "id": "JTDO1wsdgI6I"
      },
      "source": [
        "# Teoría de Conjuntos"
      ]
    },
    {
      "cell_type": "markdown",
      "metadata": {
        "id": "79RSrJuVzMl7"
      },
      "source": [
        "## Repaso de Teoría de Conjuntos\n",
        "\n",
        "Recordemos que las operaciones en conjuntos son:\n",
        "1. Cardinalidad\n",
        "2. Complemento (equivalente al NOT)\n",
        "3. Igualdad (equivalente al Buffer)\n",
        "4. Intersección (equivalente al AND)\n",
        "5. Unión (equivalente al OR)\n",
        "6. Diferencia\n",
        "7. Diferencia simétrica (equivalente al XOR)\n",
        "8. Producto Cartesiano\n",
        "\n",
        "Para repasar estos conceptos, vamos a crear:\n",
        "- Nuestro conjunto universo `setU` formado por todos los números naturales del 1 al 100\n",
        "- `setA` formado por todos los números pares (es decir, múltiplos de 2) del universo\n",
        "- `setB` formado por todos los números que son múltiplos de 3\n",
        "- `setC` formado por todos los números que son múltiplos de 5"
      ]
    },
    {
      "cell_type": "code",
      "execution_count": null,
      "metadata": {
        "id": "BNhJ0tQygh5I"
      },
      "outputs": [],
      "source": [
        "########################################################################\n",
        "## POR HACER por los estudiantes\n",
        "## Completa todos los ... en el código debajo y quita la siguiente línea\n",
        "raise NotImplementedError(\"Construye los conjuntos mencionados arriba.\")\n",
        "########################################################################\n",
        "\n",
        "setU = []\n",
        "setA = []\n",
        "setB = []\n",
        "setC = []\n",
        "\n",
        "for i in range(101):\n",
        "  setU.append(str(i))\n",
        "  if(...):\n",
        "    setA.append(str(i))\n",
        "  if(...):\n",
        "    setB.append(str(i))\n",
        "  if(...):\n",
        "    setC.append(str(i))\n",
        "\n",
        "setU = set(setU)\n",
        "setA = set(setA)\n",
        "setB = set(setB)\n",
        "setC = set(setC)"
      ]
    },
    {
      "cell_type": "markdown",
      "metadata": {
        "id": "TXcpGI_Wxo0a"
      },
      "source": [
        "### Cardinalidad\n",
        "\n",
        "Nos devuelve el tamaño del conjunto. Para obtener la cardinalidad en Python nos apoyamos de la función `len(...)`.\n",
        "\n",
        "Escribe un código que nos muestre el tamaño del conjunto `setC`."
      ]
    },
    {
      "cell_type": "code",
      "execution_count": null,
      "metadata": {
        "id": "j3HtDGRuyAAh"
      },
      "outputs": [],
      "source": [
        "########################################################################\n",
        "## POR HACER por los estudiantes\n",
        "## Completa todos los ... en el código debajo y quita la siguiente línea\n",
        "raise NotImplementedError(\"Obtén la cardinalidad de setC.\")\n",
        "########################################################################\n",
        "\n",
        "..."
      ]
    },
    {
      "cell_type": "markdown",
      "metadata": {
        "id": "iyK49QjbmEv8"
      },
      "source": [
        "### Intersección (equivalente al AND)\n",
        "\n",
        "Nos devuelve los valores que estén tanto en A como en B. Para usar esta operación en Python, utilizamos el operador `&`.\n",
        "\n",
        "Escribe un código que una los elementos de `setA` con los de `setB`. ¿Qué características tienen estos elementos?"
      ]
    },
    {
      "cell_type": "code",
      "execution_count": null,
      "metadata": {
        "id": "KD7yY3bvvoxe"
      },
      "outputs": [],
      "source": [
        "########################################################################\n",
        "## POR HACER por los estudiantes\n",
        "## Completa todos los ... en el código debajo y quita la siguiente línea\n",
        "raise NotImplementedError(\"Realiza la intersección de conjuntos setA con setB.\")\n",
        "########################################################################\n",
        "\n",
        "..."
      ]
    },
    {
      "cell_type": "markdown",
      "metadata": {
        "id": "werDSgVfmOcL"
      },
      "source": [
        "### Unión (equivalente al OR)\n",
        "\n",
        "Nos devuelve los valores que estén en A o que estén en B (o ambos). Para usar esta operación en Python, utilizamos el operador `|`.\n",
        "\n",
        "Escribe un código que te una los elementos del conjunto `setB` con el conjunto `setC`."
      ]
    },
    {
      "cell_type": "code",
      "execution_count": null,
      "metadata": {
        "id": "xam2p2c0vjqn"
      },
      "outputs": [],
      "source": [
        "########################################################################\n",
        "## POR HACER por los estudiantes\n",
        "## Completa todos los ... en el código debajo y quita la siguiente línea\n",
        "raise NotImplementedError(\"Realiza la unión de conjuntos setB con setC.\")\n",
        "########################################################################\n",
        "\n",
        "..."
      ]
    },
    {
      "cell_type": "markdown",
      "metadata": {
        "id": "gGbQveZgmQfM"
      },
      "source": [
        "### Diferencia\n",
        "\n",
        "La diferencia de A con B ($A - B$) nos devuelven los valores que estén en A pero que no estén en B. Para usar esta operación en Python, utilizamos el método `.difference(...)`, donde en colocaremos el conjunto que queramos restar.\n",
        "\n",
        "Escribe un código que te regrese la diferencia del conjunto `setU` con el conjunto `setA`. ¿Qué valores te están dando?"
      ]
    },
    {
      "cell_type": "code",
      "execution_count": null,
      "metadata": {
        "id": "ZXtYj8faukJ9"
      },
      "outputs": [],
      "source": [
        "########################################################################\n",
        "## POR HACER por los estudiantes\n",
        "## Completa todos los ... en el código debajo y quita la siguiente línea\n",
        "raise NotImplementedError(\"Realiza la resta de conjuntos setU-setA.\")\n",
        "########################################################################\n",
        "\n",
        "..."
      ]
    },
    {
      "cell_type": "markdown",
      "metadata": {
        "id": "koLsEq4lwBzv"
      },
      "source": [
        "Escribe un código que te regrese la diferencia del conjunto `setA` con el conjunto `setC`. ¿Qué valores te están dando?"
      ]
    },
    {
      "cell_type": "code",
      "execution_count": null,
      "metadata": {
        "id": "pFAXPBbjwLyY"
      },
      "outputs": [],
      "source": [
        "########################################################################\n",
        "## POR HACER por los estudiantes\n",
        "## Completa todos los ... en el código debajo y quita la siguiente línea\n",
        "raise NotImplementedError(\"Realiza la resta de conjuntos setA-setC.\")\n",
        "########################################################################\n",
        "\n",
        "..."
      ]
    },
    {
      "cell_type": "markdown",
      "metadata": {
        "id": "vzukbXpemSyD"
      },
      "source": [
        "###Diferencia Simétrica (equivalente al XOR)\n",
        "\n",
        "La diferencia de A con B ($A \\triangle B$) nos devuelven los valores que estén en A ó que estén B pero que no estén en ambos. Para usar esta operación en Python, utilizamos el método `.symmetric_difference(...)`, donde en colocaremos el conjunto que queramos restar.\n",
        "\n",
        "Escribe un código que te regrese la diferencia simétrica del conjunto `setA` con el conjunto `setC`. ¿Qué valores te están dando? ¿Son distintos a lo que obtuvimos en la celda anterior?"
      ]
    },
    {
      "cell_type": "code",
      "execution_count": null,
      "metadata": {
        "id": "otjY_Q7IwVKN"
      },
      "outputs": [],
      "source": [
        "########################################################################\n",
        "## POR HACER por los estudiantes\n",
        "## Completa todos los ... en el código debajo y quita la siguiente línea\n",
        "raise NotImplementedError(\"Realiza la resta simétrica de conjuntos setA y setC.\")\n",
        "########################################################################\n",
        "\n",
        "..."
      ]
    },
    {
      "cell_type": "markdown",
      "metadata": {
        "id": "SC-hTCOezlh1"
      },
      "source": [
        "### Producto Cartesiano\n",
        "\n",
        "El producto cartesiano nos arroja los pares ordenados de los elementos de dos conjuntos. En Python nos apoyaremos de la función `product(..., ...)` de la paquetería `itertools` para obtener el producto cartesiano.\n",
        "\n",
        "Para que no sea tan grande el resultado, corre la siguiente celda para obtener `setD` con `setE` ($D \\times E$) y después implementa el producto cartesiano entre estos dos nuevos conjuntos."
      ]
    },
    {
      "cell_type": "code",
      "execution_count": 11,
      "metadata": {
        "id": "y6rekQIi4E9T"
      },
      "outputs": [],
      "source": [
        "setD = set([\"Alberto\",\"Beatriz\",\"Carlos\",\"Diana\"])\n",
        "setE = set([\"amarillo\",\"rojo\",\"azul\"])"
      ]
    },
    {
      "cell_type": "code",
      "execution_count": 21,
      "metadata": {
        "id": "frqEafsazlFz"
      },
      "outputs": [],
      "source": [
        "########################################################################\n",
        "## POR HACER por los estudiantes\n",
        "## Completa todos los ... en el código debajo y quita la siguiente línea\n",
        "raise NotImplementedError(\"Obtén el producto cartesiano entre los conjuntos setD y setC.\")\n",
        "########################################################################\n",
        "\n",
        "productoCartesianoDE = []\n",
        "\n",
        "for element in itertools.product(..., ...):\n",
        "    productoCartesianoDE.append(element)\n",
        "\n",
        "productoCartesianoDE = set(productoCartesianoDE)\n",
        "\n",
        "productoCartesianoDE"
      ]
    },
    {
      "cell_type": "markdown",
      "metadata": {
        "id": "ycDNUtE95JH3"
      },
      "source": [
        "Corre la siguiente celda para obtener $E \\times D$. ¿Es igual este producto a lo que obtuvimos anteriormente?"
      ]
    },
    {
      "cell_type": "code",
      "execution_count": null,
      "metadata": {
        "id": "p0VmEUKu4ZlA"
      },
      "outputs": [],
      "source": [
        "########################################################################\n",
        "# Sólo ejecuta esta celda. No es necesario escribir nada.\n",
        "########################################################################\n",
        "\n",
        "productoCartesianoED = []\n",
        "\n",
        "for element in itertools.product(setE, setD):\n",
        "    productoCartesianoED.append(element)\n",
        "\n",
        "productoCartesianoED = set(productoCartesianoED)\n",
        "\n",
        "productoCartesianoED"
      ]
    },
    {
      "cell_type": "markdown",
      "metadata": {
        "id": "K9xoANnt53f9"
      },
      "source": [
        "Escribe en la siguiente celda el código que usarías para comparar ambos conjuntos y determinar si son los mismos o no."
      ]
    },
    {
      "cell_type": "code",
      "execution_count": null,
      "metadata": {
        "id": "clCKfT0p41lc"
      },
      "outputs": [],
      "source": [
        "... == ..."
      ]
    }
  ],
  "metadata": {
    "colab": {
      "authorship_tag": "ABX9TyN2MhUoyuQYs8qZGjJBA2uI",
      "include_colab_link": true,
      "name": "Bootcamp de Introducción a la Programación - Matemáticas Discretas",
      "provenance": [],
      "toc_visible": true
    },
    "kernelspec": {
      "display_name": "Python 3",
      "name": "python3"
    },
    "language_info": {
      "codemirror_mode": {
        "name": "ipython",
        "version": 3
      },
      "file_extension": ".py",
      "mimetype": "text/x-python",
      "name": "python",
      "nbconvert_exporter": "python",
      "pygments_lexer": "ipython3",
      "version": "3.10.2"
    }
  },
  "nbformat": 4,
  "nbformat_minor": 0
}
