{
  "nbformat": 4,
  "nbformat_minor": 0,
  "metadata": {
    "colab": {
      "name": "Bootcamp de Introducción a la Programación - Matemáticas Discretas",
      "provenance": [],
      "toc_visible": true,
      "authorship_tag": "ABX9TyN2MhUoyuQYs8qZGjJBA2uI",
      "include_colab_link": true
    },
    "kernelspec": {
      "name": "python3",
      "display_name": "Python 3"
    },
    "language_info": {
      "name": "python"
    }
  },
  "cells": [
    {
      "cell_type": "markdown",
      "metadata": {
        "id": "view-in-github",
        "colab_type": "text"
      },
      "source": [
        "<a href=\"https://colab.research.google.com/github/LaMatemaga/CF-Matematicas-Discretas/blob/main/Matem%C3%A1ticas%20Discretas%20con%20Python.ipynb\" target=\"_parent\"><img src=\"https://colab.research.google.com/assets/colab-badge.svg\" alt=\"Open In Colab\"/></a>"
      ]
    },
    {
      "cell_type": "markdown",
      "source": [
        "# Matemáticas Discretas\n",
        "\n",
        "¡Hola! Bienvenidxs a la última sesión del módulo de Matemáticas Discretas. En esta sesión estaremos utilizando lo que hemos visto hasta el momento pero implementándolo en Python.\n",
        "\n",
        "Esta libreta de Google Colaboratory está dividida en dos secciónes:\n",
        "1. **Lógica Proposicional:** \n",
        "  * Repaso de Lógica Proposicional con sus tablas de verdad en Python.\n",
        "  * Creación de nuevas tablas de verdad.\n",
        "  * Ejercicios donde sea necesario resolver mediante lógica proposicional.\n",
        "2. **Teoría de Conjuntos:**\n",
        "  * Repaso de Teoría de Conjuntos con Python.\n",
        "  * Ejercicios donde se puedan visualizar conjuntos.\n",
        "  * Simulación de SQL en Python.\n",
        "\n",
        "El contenido de **Teoría de Grafos** se enviará esta semana en otra libreta de Google Colaboratory y te hará un tutorial de cómo manejar algunos conceptos de grafos en Python. Además, en la misma libreta de Colab te daré algunas ideas de proyectos guiados que pudieran ayudarte a iniciar en Ciencia de Datos en caso de que estés interesadx.\n",
        "\n",
        "Antes de continuar, te pediremos que corras la siguiente celda para que puedas incializar todas las paqueterías de Python que estaremos utilizando (Pandas y Numpy). Es necesario correr las celdas porque si no el resto del colab pudiera tener problemas."
      ],
      "metadata": {
        "id": "vWqaKTj4y7Ta"
      }
    },
    {
      "cell_type": "code",
      "source": [
        "# @title Instalación de paqueterías y actualizaciones necesarias para hacer los ejercicios\n",
        "\n",
        "# Actualizar librerías\n",
        "!pip install pandas --upgrade --quiet\n",
        "!pip install numpy --upgrade --quiet\n",
        "\n",
        "import pandas as pd\n",
        "import numpy as np\n",
        "import itertools\n"
      ],
      "metadata": {
        "cellView": "form",
        "id": "CyPv7cjHd4Kx"
      },
      "execution_count": 2,
      "outputs": []
    },
    {
      "cell_type": "markdown",
      "source": [
        "# Lógica Proposicional"
      ],
      "metadata": {
        "id": "-PFcCRgTzRxK"
      }
    },
    {
      "cell_type": "code",
      "source": [
        "# @title Inicialización de Variables\n",
        "\n",
        "# Variables que usaremos para las proposiciones: A, B, C, P, Q, R.\n",
        "C = [True, False]\n",
        "A = [True, True, False, False]\n",
        "B = [True, False, True, False]\n",
        "P = [True, True, True, True, False, False, False, False]\n",
        "Q = [True, True, False, False, True, True, False, False]\n",
        "R = [True, False, True, False, True, False, True, False]"
      ],
      "metadata": {
        "cellView": "form",
        "id": "AqQe7S3M1K50"
      },
      "execution_count": null,
      "outputs": []
    },
    {
      "cell_type": "markdown",
      "source": [
        "## Repaso de Lógica Proposicional\n",
        "\n",
        "Recordemos que los operadores lógicos son:\n",
        "1. Negación (NOT)\n",
        "2. Conjunción (AND)\n",
        "3. Disyunción (OR)\n",
        "4. Disyunción exclusiva (XOR)\n",
        "5. (Buffer)\n",
        "6. (NAND)\n",
        "7. (NOR)\n",
        "8. (XNOR)\n",
        "9. Condicional (THEN)\n",
        "10. Bicondicional (IFF)"
      ],
      "metadata": {
        "id": "UzrmbH6WqdTd"
      }
    },
    {
      "cell_type": "markdown",
      "source": [
        "### Negación (Not)\n",
        "La tabla de verdad asociada a la operación booleana `not` es la siguiente:\n",
        "\n",
        "|  C  | not C |\n",
        "|:---:|:-----:|\n",
        "|  T  |   F   |\n",
        "|  F  |   T   |"
      ],
      "metadata": {
        "id": "3CCBoN6B4bYF"
      }
    },
    {
      "cell_type": "code",
      "source": [
        "########################################################################\n",
        "## POR HACER por los estudiantes\n",
        "## Completa todos los ... en el código debajo y quita la siguiente línea\n",
        "raise NotImplementedError(\"Aplica el operador lógico.\")\n",
        "########################################################################\n",
        "\n",
        "notC = [None]*2\n",
        "for i in range(2):\n",
        "  notC[i] = ...\n",
        "\n",
        "print(...)"
      ],
      "metadata": {
        "id": "nEPXs1mD5TNX"
      },
      "execution_count": null,
      "outputs": []
    },
    {
      "cell_type": "code",
      "source": [
        "########################################################################\n",
        "## POR HACER por los estudiantes\n",
        "## Completa todos los ... en el código debajo y quita la siguiente línea\n",
        "raise NotImplementedError(\"Convierte a dataframe e imprìmelo.\")\n",
        "########################################################################\n",
        "\n",
        "tablaNOT = {'C': C, 'Not C': ...}\n",
        "tablaNOT_df = pd.DataFrame(...)\n",
        "\n",
        "print(...)"
      ],
      "metadata": {
        "id": "Lc8lUyoq5hrH"
      },
      "execution_count": null,
      "outputs": []
    },
    {
      "cell_type": "markdown",
      "source": [
        "### Conjunción (And)\n",
        "La tabla de verdad asociada a la operación booleana `and` es la siguiente:\n",
        "\n",
        "|  A  |  B  | A and B |\n",
        "|:---:|:---:|:-------:|\n",
        "|  T  |  T  |    T    |\n",
        "|  T  |  F  |    F    |\n",
        "|  F  |  T  |    F    |\n",
        "|  F  |  F  |    F    |"
      ],
      "metadata": {
        "id": "8M6EoK_G2vQq"
      }
    },
    {
      "cell_type": "code",
      "source": [
        "########################################################################\n",
        "## POR HACER por los estudiantes\n",
        "## Completa todos los ... en el código debajo y quita la siguiente línea\n",
        "raise NotImplementedError(\"Aplica el operador lógico.\")\n",
        "########################################################################\n",
        "\n",
        "AandB = [None]*4\n",
        "for i in range(4):\n",
        "  AandB[i] = ...\n",
        "\n",
        "print(...)"
      ],
      "metadata": {
        "id": "0U767LGK3jWR"
      },
      "execution_count": null,
      "outputs": []
    },
    {
      "cell_type": "code",
      "source": [
        "########################################################################\n",
        "## POR HACER por los estudiantes\n",
        "## Completa todos los ... en el código debajo y quita la siguiente línea\n",
        "raise NotImplementedError(\"Convierte a dataframe e imprìmelo.\")\n",
        "########################################################################\n",
        "\n",
        "tablaAND = {'A': A, 'B': B, 'A and B': ...}\n",
        "tablaAND_df = pd.DataFrame(...)\n",
        "\n",
        "print(...)"
      ],
      "metadata": {
        "id": "yZ9iTi0Re6-m"
      },
      "execution_count": null,
      "outputs": []
    },
    {
      "cell_type": "markdown",
      "source": [
        "### Disyunción (Or)\n",
        "La tabla de verdad asociada a la operación booleana `or` es la siguiente:\n",
        "\n",
        "|  A  |  B  | A or B  |\n",
        "|:---:|:---:|:-------:|\n",
        "|  T  |  T  |    T    |\n",
        "|  T  |  F  |    T    |\n",
        "|  F  |  T  |    T    |\n",
        "|  F  |  F  |    F    |"
      ],
      "metadata": {
        "id": "jTkhXXai2mWP"
      }
    },
    {
      "cell_type": "code",
      "source": [
        "########################################################################\n",
        "## POR HACER por los estudiantes\n",
        "## Completa todos los ... en el código debajo y quita la siguiente línea\n",
        "raise NotImplementedError(\"Aplica el operador lógico.\")\n",
        "########################################################################\n",
        "\n",
        "AorB = [None]*4\n",
        "for i in range(4):\n",
        "  AorB[i] = ...\n",
        "\n",
        "print(...)"
      ],
      "metadata": {
        "id": "hl3hFkwc26o4"
      },
      "execution_count": null,
      "outputs": []
    },
    {
      "cell_type": "code",
      "source": [
        "########################################################################\n",
        "## POR HACER por los estudiantes\n",
        "## Completa todos los ... en el código debajo y quita la siguiente línea\n",
        "raise NotImplementedError(\"Convierte a dataframe e imprìmelo.\")\n",
        "########################################################################\n",
        "\n",
        "tablaOR = {'A': A, 'B': B, 'A or B': ...}\n",
        "tablaOR_df = pd.DataFrame(...)\n",
        "\n",
        "print(...)"
      ],
      "metadata": {
        "id": "QfNAJBrm0iKF"
      },
      "execution_count": null,
      "outputs": []
    },
    {
      "cell_type": "markdown",
      "source": [
        "### Disyunción exclusiva (XOR)\n",
        "La tabla de verdad asociada a la operación booleana `xor` es la siguiente:\n",
        "\n",
        "|  A  |  B  | A xor B |\n",
        "|:---:|:---:|:-------:|\n",
        "|  T  |  T  |    F    |\n",
        "|  T  |  F  |    T    |\n",
        "|  F  |  T  |    T    |\n",
        "|  F  |  F  |    F    |"
      ],
      "metadata": {
        "id": "ZD7eXbRWhvWk"
      }
    },
    {
      "cell_type": "code",
      "source": [
        "########################################################################\n",
        "## POR HACER por los estudiantes\n",
        "## Completa todos los ... en el código debajo y quita la siguiente línea\n",
        "raise NotImplementedError(\"Aplica el operador lógico.\")\n",
        "########################################################################\n",
        "\n",
        "AxorB = [None]*4\n",
        "for i in range(4):\n",
        "  AxorB[i] = ...\n",
        "\n",
        "print(...)"
      ],
      "metadata": {
        "id": "RGctWDb1hy5z"
      },
      "execution_count": null,
      "outputs": []
    },
    {
      "cell_type": "code",
      "source": [
        "########################################################################\n",
        "## POR HACER por los estudiantes\n",
        "## Completa todos los ... en el código debajo y quita la siguiente línea\n",
        "raise NotImplementedError(\"Convierte a dataframe e imprìmelo.\")\n",
        "########################################################################\n",
        "\n",
        "tablaXOR = {'A': A, 'B': B, 'A xor B': ...}\n",
        "tablaXOR_df = pd.DataFrame(...)\n",
        "\n",
        "print(...)"
      ],
      "metadata": {
        "id": "jbvqfl2NiK5R"
      },
      "execution_count": null,
      "outputs": []
    },
    {
      "cell_type": "markdown",
      "source": [
        "### NAND\n",
        "\n",
        "La tabla de verdad asociada a la operación booleana `nand` es la siguiente:\n",
        "\n",
        "|  A  |  B  | A nand B|\n",
        "|:---:|:---:|:-------:|\n",
        "|  T  |  T  |    F    |\n",
        "|  T  |  F  |    T    |\n",
        "|  F  |  T  |    T    |\n",
        "|  F  |  F  |    T    |"
      ],
      "metadata": {
        "id": "7Ow3H7vAb58o"
      }
    },
    {
      "cell_type": "code",
      "source": [
        "########################################################################\n",
        "## POR HACER por los estudiantes\n",
        "## Completa todos los ... en el código debajo y quita la siguiente línea\n",
        "raise NotImplementedError(\"Aplica el operador lógico.\")\n",
        "########################################################################\n",
        "\n",
        "AnandB = [None]*4\n",
        "for i in range(4):\n",
        "  AnandB[i] = ...\n",
        "\n",
        "print(...)"
      ],
      "metadata": {
        "id": "WhxlOCWgcEqO"
      },
      "execution_count": null,
      "outputs": []
    },
    {
      "cell_type": "code",
      "source": [
        "########################################################################\n",
        "## POR HACER por los estudiantes\n",
        "## Completa todos los ... en el código debajo y quita la siguiente línea\n",
        "raise NotImplementedError(\"Convierte a dataframe e imprìmelo.\")\n",
        "########################################################################\n",
        "\n",
        "tablaNAND = {'A': A, 'B': B, 'A nand B': ...}\n",
        "tablaNAND_df = pd.DataFrame(...)\n",
        "\n",
        "print(...)"
      ],
      "metadata": {
        "id": "sCPdITBccIpB"
      },
      "execution_count": null,
      "outputs": []
    },
    {
      "cell_type": "markdown",
      "source": [
        "**Observación:** Es equivalente a la operación AND negada."
      ],
      "metadata": {
        "id": "-Szq9onCpiQV"
      }
    },
    {
      "cell_type": "code",
      "source": [
        "print(tablaAND)"
      ],
      "metadata": {
        "id": "ek-KpmlhpiQX"
      },
      "execution_count": null,
      "outputs": []
    },
    {
      "cell_type": "markdown",
      "source": [
        "### NOR\n",
        "\n",
        "La tabla de verdad asociada a la operación booleana `nor` es la siguiente:\n",
        "\n",
        "|  A  |  B  | A nor B |\n",
        "|:---:|:---:|:-------:|\n",
        "|  T  |  T  |    F    |\n",
        "|  T  |  F  |    F    |\n",
        "|  F  |  T  |    F    |\n",
        "|  F  |  F  |    T    |"
      ],
      "metadata": {
        "id": "eYUA0sT2cM7P"
      }
    },
    {
      "cell_type": "code",
      "source": [
        "########################################################################\n",
        "## POR HACER por los estudiantes\n",
        "## Completa todos los ... en el código debajo y quita la siguiente línea\n",
        "raise NotImplementedError(\"Aplica el operador lógico.\")\n",
        "########################################################################\n",
        "\n",
        "AnorB = [None]*4\n",
        "for i in range(4):\n",
        "  AnorB[i] = ...\n",
        "\n",
        "print(...)"
      ],
      "metadata": {
        "id": "9fj8r0D5clGt"
      },
      "execution_count": null,
      "outputs": []
    },
    {
      "cell_type": "code",
      "source": [
        "########################################################################\n",
        "## POR HACER por los estudiantes\n",
        "## Completa todos los ... en el código debajo y quita la siguiente línea\n",
        "raise NotImplementedError(\"Convierte a dataframe e imprìmelo.\")\n",
        "########################################################################\n",
        "\n",
        "tablaNOR = {'A': A, 'B': B, 'A nor B': ...}\n",
        "tablaNOR_df = pd.DataFrame(...)\n",
        "\n",
        "print(...)"
      ],
      "metadata": {
        "id": "gi3vF7exctQO"
      },
      "execution_count": null,
      "outputs": []
    },
    {
      "cell_type": "markdown",
      "source": [
        "**Observación:** Es equivalente a la operación OR negada."
      ],
      "metadata": {
        "id": "lECEXl6bpY_p"
      }
    },
    {
      "cell_type": "code",
      "source": [
        "print(tablaOR)"
      ],
      "metadata": {
        "id": "Fsoh-MyopY_r"
      },
      "execution_count": null,
      "outputs": []
    },
    {
      "cell_type": "markdown",
      "source": [
        "### XNOR\n",
        "\n",
        "La tabla de verdad asociada a la operación booleana `xnor` es la siguiente:\n",
        "\n",
        "|  A  |  B  | A xnor B|\n",
        "|:---:|:---:|:-------:|\n",
        "|  T  |  T  |    T    |\n",
        "|  T  |  F  |    F    |\n",
        "|  F  |  T  |    F    |\n",
        "|  F  |  F  |    T    |"
      ],
      "metadata": {
        "id": "93GqmOOIcbCo"
      }
    },
    {
      "cell_type": "code",
      "source": [
        "########################################################################\n",
        "## POR HACER por los estudiantes\n",
        "## Completa todos los ... en el código debajo y quita la siguiente línea\n",
        "raise NotImplementedError(\"Aplica el operador lógico.\")\n",
        "########################################################################\n",
        "\n",
        "AxnorB = [None]*4\n",
        "for i in range(4):\n",
        "  AxnorB[i] = ...\n",
        "\n",
        "print(...)"
      ],
      "metadata": {
        "id": "s1sOB5tMcpHb"
      },
      "execution_count": null,
      "outputs": []
    },
    {
      "cell_type": "code",
      "source": [
        "########################################################################\n",
        "## POR HACER por los estudiantes\n",
        "## Completa todos los ... en el código debajo y quita la siguiente línea\n",
        "raise NotImplementedError(\"Convierte a dataframe e imprìmelo.\")\n",
        "########################################################################\n",
        "\n",
        "tablaXNOR = {'A': A, 'B': B, 'A xnor B': ...}\n",
        "tablaXNOR_df = pd.DataFrame(...)\n",
        "\n",
        "print(...)"
      ],
      "metadata": {
        "id": "SF-qYQ8Kcxhk"
      },
      "execution_count": null,
      "outputs": []
    },
    {
      "cell_type": "markdown",
      "source": [
        "**Observación:** Es equivalente a la operación XOR negada."
      ],
      "metadata": {
        "id": "pJENjRHqpRre"
      }
    },
    {
      "cell_type": "code",
      "source": [
        "print(tablaXOR)"
      ],
      "metadata": {
        "id": "raBv4wl6pRrg"
      },
      "execution_count": null,
      "outputs": []
    },
    {
      "cell_type": "markdown",
      "source": [
        "### Condicional (THEN)\n",
        "La tabla de verdad asociada a la operación booleana `then` es la siguiente:\n",
        "\n",
        "|  A  |  B  | A then B|\n",
        "|:---:|:---:|:-------:|\n",
        "|  T  |  T  |    T    |\n",
        "|  T  |  F  |    F    |\n",
        "|  F  |  T  |    T    |\n",
        "|  F  |  F  |    T    |"
      ],
      "metadata": {
        "id": "SD91dCPQSLWd"
      }
    },
    {
      "cell_type": "code",
      "source": [
        "########################################################################\n",
        "## POR HACER por los estudiantes\n",
        "## Completa todos los ... en el código debajo y quita la siguiente línea\n",
        "raise NotImplementedError(\"Aplica el operador lógico.\")\n",
        "########################################################################\n",
        "\n",
        "AthenB = [None]*4\n",
        "for i in range(4):\n",
        "  AthenB[i] = ...\n",
        "\n",
        "print(...)"
      ],
      "metadata": {
        "id": "rPWNcobTtsot"
      },
      "execution_count": null,
      "outputs": []
    },
    {
      "cell_type": "code",
      "source": [
        "########################################################################\n",
        "## POR HACER por los estudiantes\n",
        "## Completa todos los ... en el código debajo y quita la siguiente línea\n",
        "raise NotImplementedError(\"Convierte a dataframe e imprìmelo.\")\n",
        "########################################################################\n",
        "\n",
        "tablaTHEN = {'A': A, 'B': B, 'A then B': ...}\n",
        "tablaTHEN_df = pd.DataFrame(...)\n",
        "\n",
        "print(...)"
      ],
      "metadata": {
        "id": "sSJFV0TlSZts"
      },
      "execution_count": null,
      "outputs": []
    },
    {
      "cell_type": "markdown",
      "source": [
        "**Observación:** Es equivalente a la operación lógica $\\neg A \\vee B$"
      ],
      "metadata": {
        "id": "ClJW7Avhp3Ll"
      }
    },
    {
      "cell_type": "code",
      "source": [
        "########################################################################\n",
        "## POR HACER por los estudiantes\n",
        "## Completa todos los ... en el código debajo y quita la siguiente línea\n",
        "raise NotImplementedError(\"Aplica el operador lógico.\")\n",
        "########################################################################\n",
        "\n",
        "notA    = [None]*4\n",
        "notAorB = [None]*4\n",
        "\n",
        "for i in range(4):\n",
        "  notA[i]    = ...\n",
        "  notAorB[i] = ...\n",
        "\n",
        "print(...)"
      ],
      "metadata": {
        "id": "LhZP0fAfqBal"
      },
      "execution_count": null,
      "outputs": []
    },
    {
      "cell_type": "code",
      "source": [
        "########################################################################\n",
        "## POR HACER por los estudiantes\n",
        "## Completa todos los ... en el código debajo y quita la siguiente línea\n",
        "raise NotImplementedError(\"Convierte a dataframe e imprìmelo.\")\n",
        "########################################################################\n",
        "\n",
        "tablaCOMPUESTA = {'A': A, 'B': B, 'not A': ..., 'not A or B': ...}\n",
        "tablaCOMPUESTA_df = pd.DataFrame(...)\n",
        "\n",
        "print(...)\n",
        "print(tablaTHEN_df)"
      ],
      "metadata": {
        "id": "zVDAqVKjqb0C"
      },
      "execution_count": null,
      "outputs": []
    },
    {
      "cell_type": "markdown",
      "source": [
        "### Bicondicional (IFF)\n",
        "La tabla de verdad asociada a la operación booleana `iff` es la siguiente:\n",
        "\n",
        "|  A  |  B  | A iff B |\n",
        "|:---:|:---:|:-------:|\n",
        "|  T  |  T  |    T    |\n",
        "|  T  |  F  |    F    |\n",
        "|  F  |  T  |    F    |\n",
        "|  F  |  F  |    T    |"
      ],
      "metadata": {
        "id": "p2GmoydHSjpO"
      }
    },
    {
      "cell_type": "code",
      "source": [
        "########################################################################\n",
        "## POR HACER por los estudiantes\n",
        "## Completa todos los ... en el código debajo y quita la siguiente línea\n",
        "raise NotImplementedError(\"Aplica el operador lógico.\")\n",
        "########################################################################\n",
        "\n",
        "AiffB = [None]*4\n",
        "for i in range(4):\n",
        "  AiffB[i] = ...\n",
        "\n",
        "print(...)"
      ],
      "metadata": {
        "id": "6hylw-BnSjC4"
      },
      "execution_count": null,
      "outputs": []
    },
    {
      "cell_type": "code",
      "source": [
        "########################################################################\n",
        "## POR HACER por los estudiantes\n",
        "## Completa todos los ... en el código debajo y quita la siguiente línea\n",
        "raise NotImplementedError(\"Convierte a dataframe e imprìmelo.\")\n",
        "########################################################################\n",
        "\n",
        "tablaIFF = {'A': A, 'B': B, 'A then B': ...}\n",
        "tablaIFF_df = pd.DataFrame(...)\n",
        "\n",
        "print(...)"
      ],
      "metadata": {
        "id": "Edvf1SYKS10X"
      },
      "execution_count": null,
      "outputs": []
    },
    {
      "cell_type": "markdown",
      "source": [
        "**Observación:** Es equivalente a la operación XNOR."
      ],
      "metadata": {
        "id": "QcDXprk0o7vd"
      }
    },
    {
      "cell_type": "code",
      "source": [
        "print(tablaXNOR)"
      ],
      "metadata": {
        "id": "uo8jvT-2pAQk"
      },
      "execution_count": null,
      "outputs": []
    },
    {
      "cell_type": "markdown",
      "source": [
        "## Ejercicios de Lógica Proposicional\n",
        "\n",
        "Escribe código que obtenga los valores de verdad de las siguientes proposiciones:\n",
        "1. $a \\wedge \\neg b$\n",
        "2. $(a \\wedge b) \\wedge \\neg a$\n",
        "3. $\\neg p \\vee \\neg(q \\wedge r)$\n",
        "4. $\\neg (p \\wedge q) \\vee (\\neg q \\vee r)$\n",
        "\n",
        "Recordatorio: Usar las variables `A` y `B` cuando se usen dos proposiciones y `P`, `Q`, `R` cuando se usen tres proposiciones"
      ],
      "metadata": {
        "id": "j9Bvd8iaVHi2"
      }
    },
    {
      "cell_type": "code",
      "source": [
        "########################################################################\n",
        "## POR HACER por los estudiantes\n",
        "## Escribe el código que genere la tabla de verdad para el ejercicio 1)\n",
        "raise NotImplementedError(\"Contesta el ejercicio 1.\")\n",
        "########################################################################"
      ],
      "metadata": {
        "id": "J_oTs2OPXoFv"
      },
      "execution_count": null,
      "outputs": []
    },
    {
      "cell_type": "code",
      "source": [
        "########################################################################\n",
        "## POR HACER por los estudiantes\n",
        "## Escribe el código que genere la tabla de verdad para el ejercicio 2)\n",
        "raise NotImplementedError(\"Contesta el ejercicio 2.\")\n",
        "########################################################################"
      ],
      "metadata": {
        "id": "jG0TZORFXojs"
      },
      "execution_count": null,
      "outputs": []
    },
    {
      "cell_type": "code",
      "source": [
        "########################################################################\n",
        "## POR HACER por los estudiantes\n",
        "## Escribe el código que genere la tabla de verdad para el ejercicio 3)\n",
        "raise NotImplementedError(\"Contesta el ejercicio 3.\")\n",
        "########################################################################"
      ],
      "metadata": {
        "id": "e8q47pN6Xozl"
      },
      "execution_count": null,
      "outputs": []
    },
    {
      "cell_type": "code",
      "source": [
        "########################################################################\n",
        "## POR HACER por los estudiantes\n",
        "## Escribe el código que genere la tabla de verdad para el ejercicio 4)\n",
        "raise NotImplementedError(\"Contesta el ejercicio 4.\")\n",
        "########################################################################"
      ],
      "metadata": {
        "id": "CP8aUinZXpYR"
      },
      "execution_count": null,
      "outputs": []
    },
    {
      "cell_type": "markdown",
      "source": [
        "# Teoría de Conjuntos"
      ],
      "metadata": {
        "id": "JTDO1wsdgI6I"
      }
    },
    {
      "cell_type": "markdown",
      "source": [
        "## Repaso de Teoría de Conjuntos\n",
        "\n",
        "Recordemos que las operaciones en conjuntos son:\n",
        "1. Cardinalidad\n",
        "2. Complemento (equivalente al NOT)\n",
        "3. Igualdad (equivalente al Buffer)\n",
        "4. Intersección (equivalente al AND)\n",
        "5. Unión (equivalente al OR)\n",
        "6. Diferencia\n",
        "7. Diferencia simétrica (equivalente al XOR)\n",
        "8. Producto Cartesiano\n",
        "\n",
        "Para repasar estos conceptos, vamos a crear:\n",
        "- Nuestro conjunto universo `setU` formado por todos los números naturales del 1 al 100\n",
        "- `setA` formado por todos los números pares (es decir, múltiplos de 2) del universo\n",
        "- `setB` formado por todos los números que son múltiplos de 3\n",
        "- `setC` formado por todos los números que son múltiplos de 5"
      ],
      "metadata": {
        "id": "79RSrJuVzMl7"
      }
    },
    {
      "cell_type": "code",
      "source": [
        "########################################################################\n",
        "## POR HACER por los estudiantes\n",
        "## Completa todos los ... en el código debajo y quita la siguiente línea\n",
        "raise NotImplementedError(\"Construye los conjuntos mencionados arriba.\")\n",
        "########################################################################\n",
        "\n",
        "setU = []\n",
        "setA = []\n",
        "setB = []\n",
        "setC = []\n",
        "\n",
        "for i in range(101):\n",
        "  setU.append(str(i))\n",
        "  if(...):\n",
        "    setA.append(str(i))\n",
        "  if(...):\n",
        "    setB.append(str(i))\n",
        "  if(...):\n",
        "    setC.append(str(i))\n",
        "\n",
        "setU = set(setU)\n",
        "setA = set(setA)\n",
        "setB = set(setB)\n",
        "setC = set(setC)"
      ],
      "metadata": {
        "id": "BNhJ0tQygh5I"
      },
      "execution_count": null,
      "outputs": []
    },
    {
      "cell_type": "markdown",
      "source": [
        "### Cardinalidad\n",
        "\n",
        "Nos devuelve el tamaño del conjunto. Para obtener la cardinalidad en Python nos apoyamos de la función `len(...)`.\n",
        "\n",
        "Escribe un código que nos muestre el tamaño del conjunto `setC`."
      ],
      "metadata": {
        "id": "TXcpGI_Wxo0a"
      }
    },
    {
      "cell_type": "code",
      "source": [
        "########################################################################\n",
        "## POR HACER por los estudiantes\n",
        "## Completa todos los ... en el código debajo y quita la siguiente línea\n",
        "raise NotImplementedError(\"Obtén la cardinalidad de setC.\")\n",
        "########################################################################\n",
        "\n",
        "..."
      ],
      "metadata": {
        "id": "j3HtDGRuyAAh"
      },
      "execution_count": null,
      "outputs": []
    },
    {
      "cell_type": "markdown",
      "source": [
        "### Intersección (equivalente al AND)\n",
        "\n",
        "Nos devuelve los valores que estén tanto en A como en B. Para usar esta operación en Python, utilizamos el operador `&`.\n",
        "\n",
        "Escribe un código que una los elementos de `setA` con los de `setB`. ¿Qué características tienen estos elementos?"
      ],
      "metadata": {
        "id": "iyK49QjbmEv8"
      }
    },
    {
      "cell_type": "code",
      "source": [
        "########################################################################\n",
        "## POR HACER por los estudiantes\n",
        "## Completa todos los ... en el código debajo y quita la siguiente línea\n",
        "raise NotImplementedError(\"Realiza la intersección de conjuntos setA con setB.\")\n",
        "########################################################################\n",
        "\n",
        "..."
      ],
      "metadata": {
        "id": "KD7yY3bvvoxe"
      },
      "execution_count": null,
      "outputs": []
    },
    {
      "cell_type": "markdown",
      "source": [
        "### Unión (equivalente al OR)\n",
        "\n",
        "Nos devuelve los valores que estén en A o que estén en B (o ambos). Para usar esta operación en Python, utilizamos el operador `|`.\n",
        "\n",
        "Escribe un código que te una los elementos del conjunto `setB` con el conjunto `setC`."
      ],
      "metadata": {
        "id": "werDSgVfmOcL"
      }
    },
    {
      "cell_type": "code",
      "source": [
        "########################################################################\n",
        "## POR HACER por los estudiantes\n",
        "## Completa todos los ... en el código debajo y quita la siguiente línea\n",
        "raise NotImplementedError(\"Realiza la unión de conjuntos setB con setC.\")\n",
        "########################################################################\n",
        "\n",
        "..."
      ],
      "metadata": {
        "id": "xam2p2c0vjqn"
      },
      "execution_count": null,
      "outputs": []
    },
    {
      "cell_type": "markdown",
      "source": [
        "### Diferencia\n",
        "\n",
        "La diferencia de A con B ($A - B$) nos devuelven los valores que estén en A pero que no estén en B. Para usar esta operación en Python, utilizamos el método `.difference(...)`, donde en colocaremos el conjunto que queramos restar.\n",
        "\n",
        "Escribe un código que te regrese la diferencia del conjunto `setU` con el conjunto `setA`. ¿Qué valores te están dando?"
      ],
      "metadata": {
        "id": "gGbQveZgmQfM"
      }
    },
    {
      "cell_type": "code",
      "source": [
        "########################################################################\n",
        "## POR HACER por los estudiantes\n",
        "## Completa todos los ... en el código debajo y quita la siguiente línea\n",
        "raise NotImplementedError(\"Realiza la resta de conjuntos setU-setA.\")\n",
        "########################################################################\n",
        "\n",
        "..."
      ],
      "metadata": {
        "id": "ZXtYj8faukJ9"
      },
      "execution_count": null,
      "outputs": []
    },
    {
      "cell_type": "markdown",
      "source": [
        "Escribe un código que te regrese la diferencia del conjunto `setA` con el conjunto `setC`. ¿Qué valores te están dando?"
      ],
      "metadata": {
        "id": "koLsEq4lwBzv"
      }
    },
    {
      "cell_type": "code",
      "source": [
        "########################################################################\n",
        "## POR HACER por los estudiantes\n",
        "## Completa todos los ... en el código debajo y quita la siguiente línea\n",
        "raise NotImplementedError(\"Realiza la resta de conjuntos setA-setC.\")\n",
        "########################################################################\n",
        "\n",
        "..."
      ],
      "metadata": {
        "id": "pFAXPBbjwLyY"
      },
      "execution_count": null,
      "outputs": []
    },
    {
      "cell_type": "markdown",
      "source": [
        "###Diferencia Simétrica (equivalente al XOR)\n",
        "\n",
        "La diferencia de A con B ($A \\triangle B$) nos devuelven los valores que estén en A ó que estén B pero que no estén en ambos. Para usar esta operación en Python, utilizamos el método `.symmetric_difference(...)`, donde en colocaremos el conjunto que queramos restar.\n",
        "\n",
        "Escribe un código que te regrese la diferencia simétrica del conjunto `setA` con el conjunto `setC`. ¿Qué valores te están dando? ¿Son distintos a lo que obtuvimos en la celda anterior?"
      ],
      "metadata": {
        "id": "vzukbXpemSyD"
      }
    },
    {
      "cell_type": "code",
      "source": [
        "########################################################################\n",
        "## POR HACER por los estudiantes\n",
        "## Completa todos los ... en el código debajo y quita la siguiente línea\n",
        "raise NotImplementedError(\"Realiza la resta simétrica de conjuntos setA y setC.\")\n",
        "########################################################################\n",
        "\n",
        "..."
      ],
      "metadata": {
        "id": "otjY_Q7IwVKN"
      },
      "execution_count": null,
      "outputs": []
    },
    {
      "cell_type": "markdown",
      "source": [
        "### Producto Cartesiano\n",
        "\n",
        "El producto cartesiano nos arroja los pares ordenados de los elementos de dos conjuntos. En Python nos apoyaremos de la función `product(..., ...)` de la paquetería `itertools` para obtener el producto cartesiano.\n",
        "\n",
        "Para que no sea tan grande el resultado, corre la siguiente celda para obtener `setD` con `setE` ($D \\times E$) y después implementa el producto cartesiano entre estos dos nuevos conjuntos."
      ],
      "metadata": {
        "id": "SC-hTCOezlh1"
      }
    },
    {
      "cell_type": "code",
      "source": [
        "setD = set([\"Alberto\",\"Beatriz\",\"Carlos\",\"Diana\"])\n",
        "setE = set([\"amarillo\",\"rojo\",\"azul\"])"
      ],
      "metadata": {
        "id": "y6rekQIi4E9T"
      },
      "execution_count": 11,
      "outputs": []
    },
    {
      "cell_type": "code",
      "source": [
        "########################################################################\n",
        "## POR HACER por los estudiantes\n",
        "## Completa todos los ... en el código debajo y quita la siguiente línea\n",
        "raise NotImplementedError(\"Obtén el producto cartesiano entre los conjuntos setD y setC.\")\n",
        "########################################################################\n",
        "\n",
        "productoCartesianoDE = []\n",
        "\n",
        "for element in itertools.product(..., ...):\n",
        "    productoCartesianoDE.append(element)\n",
        "\n",
        "productoCartesianoDE = set(productoCartesianoDE)\n",
        "\n",
        "productoCartesianoDE"
      ],
      "metadata": {
        "id": "frqEafsazlFz"
      },
      "execution_count": 21,
      "outputs": []
    },
    {
      "cell_type": "markdown",
      "source": [
        "Corre la siguiente celda para obtener $E \\times D$. ¿Es igual este producto a lo que obtuvimos anteriormente?"
      ],
      "metadata": {
        "id": "ycDNUtE95JH3"
      }
    },
    {
      "cell_type": "code",
      "source": [
        "########################################################################\n",
        "# Sólo ejecuta esta celda. No es necesario escribir nada.\n",
        "########################################################################\n",
        "\n",
        "productoCartesianoED = []\n",
        "\n",
        "for element in itertools.product(setE, setD):\n",
        "    productoCartesianoED.append(element)\n",
        "\n",
        "productoCartesianoED = set(productoCartesianoED)\n",
        "\n",
        "productoCartesianoED"
      ],
      "metadata": {
        "id": "p0VmEUKu4ZlA"
      },
      "execution_count": null,
      "outputs": []
    },
    {
      "cell_type": "markdown",
      "source": [
        "Escribe en la siguiente celda el código que usarías para comparar ambos conjuntos y determinar si son los mismos o no."
      ],
      "metadata": {
        "id": "K9xoANnt53f9"
      }
    },
    {
      "cell_type": "code",
      "source": [
        "... == ..."
      ],
      "metadata": {
        "id": "clCKfT0p41lc"
      },
      "execution_count": null,
      "outputs": []
    }
  ]
}