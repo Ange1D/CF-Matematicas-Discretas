{
  "cells": [
    {
      "cell_type": "markdown",
      "metadata": {
        "colab_type": "text",
        "id": "view-in-github"
      },
      "source": [
        "<a href=\"https://colab.research.google.com/github/LaMatemaga/CF-Matematicas-Discretas/blob/main/Matem%C3%A1ticas%20Discretas%20con%20Python.ipynb\" target=\"_parent\"><img src=\"https://colab.research.google.com/assets/colab-badge.svg\" alt=\"Open In Colab\"/></a>"
      ]
    },
    {
      "cell_type": "markdown",
      "metadata": {
        "id": "vWqaKTj4y7Ta"
      },
      "source": [
        "# Matemáticas Discretas\n",
        "\n",
        "¡Hola! Bienvenidxs a la última sesión del módulo de Matemáticas Discretas. En esta sesión estaremos utilizando lo que hemos visto hasta el momento pero implementándolo en Python.\n",
        "\n",
        "Esta libreta de Google Colaboratory está dividida en dos secciónes:\n",
        "1. **Lógica Proposicional:** \n",
        "  * Repaso de Lógica Proposicional con sus tablas de verdad en Python.\n",
        "  * Creación de nuevas tablas de verdad.\n",
        "  * Ejercicios donde sea necesario resolver mediante lógica proposicional.\n",
        "2. **Teoría de Conjuntos:**\n",
        "  * Repaso de Teoría de Conjuntos con Python.\n",
        "  * Ejercicios donde se puedan visualizar conjuntos.\n",
        "  * Simulación de SQL en Python.\n",
        "\n",
        "El contenido de **Teoría de Grafos** se enviará esta semana en otra libreta de Google Colaboratory y te hará un tutorial de cómo manejar algunos conceptos de grafos en Python. Además, en la misma libreta de Colab te daré algunas ideas de proyectos guiados que pudieran ayudarte a iniciar en Ciencia de Datos en caso de que estés interesadx.\n",
        "\n",
        "Antes de continuar, te pediremos que corras la siguiente celda para que puedas incializar todas las paqueterías de Python que estaremos utilizando (Pandas y Numpy). Es necesario correr las celdas porque si no el resto del colab pudiera tener problemas."
      ]
    },
    {
      "cell_type": "code",
      "execution_count": 1,
      "metadata": {
        "cellView": "form",
        "id": "CyPv7cjHd4Kx"
      },
      "outputs": [
        {
          "name": "stderr",
          "output_type": "stream",
          "text": [
            "WARNING: Ignoring invalid distribution -umpy (c:\\program files\\python310\\lib\\site-packages)\n",
            "WARNING: Ignoring invalid distribution -umpy (c:\\program files\\python310\\lib\\site-packages)\n",
            "WARNING: Ignoring invalid distribution -umpy (c:\\program files\\python310\\lib\\site-packages)\n",
            "WARNING: Ignoring invalid distribution -umpy (c:\\program files\\python310\\lib\\site-packages)\n",
            "WARNING: Ignoring invalid distribution -umpy (c:\\program files\\python310\\lib\\site-packages)\n",
            "WARNING: Ignoring invalid distribution -umpy (c:\\program files\\python310\\lib\\site-packages)\n",
            "WARNING: You are using pip version 21.2.4; however, version 22.1.2 is available.\n",
            "You should consider upgrading via the 'C:\\Program Files\\Python310\\python.exe -m pip install --upgrade pip' command.\n",
            "WARNING: Ignoring invalid distribution -umpy (c:\\program files\\python310\\lib\\site-packages)\n",
            "WARNING: Ignoring invalid distribution -umpy (c:\\program files\\python310\\lib\\site-packages)\n",
            "WARNING: Ignoring invalid distribution -umpy (c:\\program files\\python310\\lib\\site-packages)\n",
            "WARNING: Ignoring invalid distribution -umpy (c:\\program files\\python310\\lib\\site-packages)\n",
            "WARNING: Ignoring invalid distribution -umpy (c:\\program files\\python310\\lib\\site-packages)\n",
            "WARNING: Ignoring invalid distribution -umpy (c:\\program files\\python310\\lib\\site-packages)\n",
            "WARNING: You are using pip version 21.2.4; however, version 22.1.2 is available.\n",
            "You should consider upgrading via the 'C:\\Program Files\\Python310\\python.exe -m pip install --upgrade pip' command.\n"
          ]
        }
      ],
      "source": [
        "# @title Instalación de paqueterías y actualizaciones necesarias para hacer los ejercicios\n",
        "\n",
        "# Actualizar librerías\n",
        "!pip install pandas --upgrade --quiet\n",
        "!pip install numpy --upgrade --quiet\n",
        "\n",
        "import pandas as pd\n",
        "import itertools\n"
      ]
    },
    {
      "cell_type": "markdown",
      "metadata": {
        "id": "-PFcCRgTzRxK"
      },
      "source": [
        "# Lógica Proposicional"
      ]
    },
    {
      "cell_type": "code",
      "execution_count": 2,
      "metadata": {
        "cellView": "form",
        "id": "AqQe7S3M1K50"
      },
      "outputs": [],
      "source": [
        "# @title Inicialización de Variables\n",
        "\n",
        "# Variables que usaremos para las proposiciones: A, B, C, P, Q, R.\n",
        "C = [True, False]\n",
        "A = [True, True, False, False]\n",
        "B = [True, False, True, False]\n",
        "P = [True, True, True, True, False, False, False, False]\n",
        "Q = [True, True, False, False, True, True, False, False]\n",
        "R = [True, False, True, False, True, False, True, False]"
      ]
    },
    {
      "cell_type": "markdown",
      "metadata": {
        "id": "UzrmbH6WqdTd"
      },
      "source": [
        "## Repaso de Lógica Proposicional\n",
        "\n",
        "Recordemos que los operadores lógicos son:\n",
        "1. Negación (NOT)\n",
        "2. Conjunción (AND)\n",
        "3. Disyunción (OR)\n",
        "4. Disyunción exclusiva (XOR)\n",
        "5. (Buffer)\n",
        "6. (NAND)\n",
        "7. (NOR)\n",
        "8. (XNOR)\n",
        "9. Condicional (THEN)\n",
        "10. Bicondicional (IFF)"
      ]
    },
    {
      "cell_type": "markdown",
      "metadata": {
        "id": "3CCBoN6B4bYF"
      },
      "source": [
        "### Negación (Not)\n",
        "La tabla de verdad asociada a la operación booleana `not` es la siguiente:\n",
        "\n",
        "|  C  | not C |\n",
        "|:---:|:-----:|\n",
        "|  T  |   F   |\n",
        "|  F  |   T   |"
      ]
    },
    {
      "cell_type": "code",
      "execution_count": 3,
      "metadata": {
        "id": "nEPXs1mD5TNX"
      },
      "outputs": [
        {
          "name": "stdout",
          "output_type": "stream",
          "text": [
            "[False, True]\n"
          ]
        }
      ],
      "source": [
        "########################################################################\n",
        "## POR HACER por los estudiantes\n",
        "## Completa todos los ... en el código debajo y quita la siguiente línea\n",
        "#raise NotImplementedError(\"Aplica el operador lógico.\")\n",
        "########################################################################\n",
        "\n",
        "notC = [None]*2\n",
        "for i in range(2):\n",
        "  notC[i] = not C[i]\n",
        "\n",
        "print(notC)"
      ]
    },
    {
      "cell_type": "code",
      "execution_count": 4,
      "metadata": {
        "id": "Lc8lUyoq5hrH"
      },
      "outputs": [
        {
          "name": "stdout",
          "output_type": "stream",
          "text": [
            "       C  Not C\n",
            "0   True  False\n",
            "1  False   True\n"
          ]
        }
      ],
      "source": [
        "########################################################################\n",
        "## POR HACER por los estudiantes\n",
        "## Completa todos los ... en el código debajo y quita la siguiente línea\n",
        "#raise NotImplementedError(\"Convierte a dataframe e imprìmelo.\")\n",
        "########################################################################\n",
        "\n",
        "tablaNOT = {'C': C, 'Not C': notC}\n",
        "tablaNOT_df = pd.DataFrame(tablaNOT)\n",
        "\n",
        "print(tablaNOT_df)"
      ]
    },
    {
      "cell_type": "markdown",
      "metadata": {
        "id": "8M6EoK_G2vQq"
      },
      "source": [
        "### Conjunción (And)\n",
        "La tabla de verdad asociada a la operación booleana `and` es la siguiente:\n",
        "\n",
        "|  A  |  B  | A and B |\n",
        "|:---:|:---:|:-------:|\n",
        "|  T  |  T  |    T    |\n",
        "|  T  |  F  |    F    |\n",
        "|  F  |  T  |    F    |\n",
        "|  F  |  F  |    F    |"
      ]
    },
    {
      "cell_type": "code",
      "execution_count": 5,
      "metadata": {
        "id": "0U767LGK3jWR"
      },
      "outputs": [
        {
          "name": "stdout",
          "output_type": "stream",
          "text": [
            "[True, False, False, False]\n"
          ]
        }
      ],
      "source": [
        "########################################################################\n",
        "## POR HACER por los estudiantes\n",
        "## Completa todos los ... en el código debajo y quita la siguiente línea\n",
        "# raise NotImplementedError(\"Aplica el operador lógico.\")\n",
        "########################################################################\n",
        "\n",
        "AandB = [None]*4\n",
        "for i in range(4):\n",
        "  AandB[i] = A[i] and B[i]\n",
        "\n",
        "print(AandB)"
      ]
    },
    {
      "cell_type": "code",
      "execution_count": 7,
      "metadata": {
        "id": "yZ9iTi0Re6-m"
      },
      "outputs": [
        {
          "name": "stdout",
          "output_type": "stream",
          "text": [
            "       A      B  A and B\n",
            "0   True   True     True\n",
            "1   True  False    False\n",
            "2  False   True    False\n",
            "3  False  False    False\n"
          ]
        }
      ],
      "source": [
        "########################################################################\n",
        "## POR HACER por los estudiantes\n",
        "## Completa todos los ... en el código debajo y quita la siguiente línea\n",
        "# raise NotImplementedError(\"Convierte a dataframe e imprìmelo.\")\n",
        "########################################################################\n",
        "\n",
        "tablaAND = {'A': A, 'B': B, 'A and B': AandB}\n",
        "tablaAND_df = pd.DataFrame(tablaAND)\n",
        "\n",
        "print(tablaAND_df)"
      ]
    },
    {
      "cell_type": "markdown",
      "metadata": {
        "id": "jTkhXXai2mWP"
      },
      "source": [
        "### Disyunción (Or)\n",
        "La tabla de verdad asociada a la operación booleana `or` es la siguiente:\n",
        "\n",
        "|  A  |  B  | A or B  |\n",
        "|:---:|:---:|:-------:|\n",
        "|  T  |  T  |    T    |\n",
        "|  T  |  F  |    T    |\n",
        "|  F  |  T  |    T    |\n",
        "|  F  |  F  |    F    |"
      ]
    },
    {
      "cell_type": "code",
      "execution_count": 8,
      "metadata": {
        "id": "hl3hFkwc26o4"
      },
      "outputs": [
        {
          "name": "stdout",
          "output_type": "stream",
          "text": [
            "[True, True, True, False]\n"
          ]
        }
      ],
      "source": [
        "########################################################################\n",
        "## POR HACER por los estudiantes\n",
        "## Completa todos los ... en el código debajo y quita la siguiente línea\n",
        "# raise NotImplementedError(\"Aplica el operador lógico.\")\n",
        "########################################################################\n",
        "\n",
        "AorB = [None]*4\n",
        "for i in range(4):\n",
        "  AorB[i] = A[i] or B[i]\n",
        "\n",
        "print(AorB)"
      ]
    },
    {
      "cell_type": "code",
      "execution_count": 9,
      "metadata": {
        "id": "QfNAJBrm0iKF"
      },
      "outputs": [
        {
          "name": "stdout",
          "output_type": "stream",
          "text": [
            "       A      B  A or B\n",
            "0   True   True    True\n",
            "1   True  False    True\n",
            "2  False   True    True\n",
            "3  False  False   False\n"
          ]
        }
      ],
      "source": [
        "########################################################################\n",
        "## POR HACER por los estudiantes\n",
        "## Completa todos los ... en el código debajo y quita la siguiente línea\n",
        "# raise NotImplementedError(\"Convierte a dataframe e imprìmelo.\")\n",
        "########################################################################\n",
        "\n",
        "tablaOR = {'A': A, 'B': B, 'A or B': AorB}\n",
        "tablaOR_df = pd.DataFrame(tablaOR)\n",
        "\n",
        "print(tablaOR_df)"
      ]
    },
    {
      "cell_type": "markdown",
      "metadata": {
        "id": "ZD7eXbRWhvWk"
      },
      "source": [
        "### Disyunción exclusiva (XOR)\n",
        "La tabla de verdad asociada a la operación booleana `xor` es la siguiente:\n",
        "\n",
        "|  A  |  B  | A xor B |\n",
        "|:---:|:---:|:-------:|\n",
        "|  T  |  T  |    F    |\n",
        "|  T  |  F  |    T    |\n",
        "|  F  |  T  |    T    |\n",
        "|  F  |  F  |    F    |"
      ]
    },
    {
      "cell_type": "code",
      "execution_count": 10,
      "metadata": {
        "id": "RGctWDb1hy5z"
      },
      "outputs": [
        {
          "name": "stdout",
          "output_type": "stream",
          "text": [
            "[False, True, True, False]\n"
          ]
        }
      ],
      "source": [
        "########################################################################\n",
        "## POR HACER por los estudiantes\n",
        "## Completa todos los ... en el código debajo y quita la siguiente línea\n",
        "# raise NotImplementedError(\"Aplica el operador lógico.\")\n",
        "########################################################################\n",
        "\n",
        "AxorB = [None]*4\n",
        "for i in range(4):\n",
        "  AxorB[i] = A[i] ^ B[i]\n",
        "\n",
        "print(AxorB)"
      ]
    },
    {
      "cell_type": "code",
      "execution_count": 11,
      "metadata": {
        "id": "jbvqfl2NiK5R"
      },
      "outputs": [
        {
          "name": "stdout",
          "output_type": "stream",
          "text": [
            "       A      B  A xor B\n",
            "0   True   True    False\n",
            "1   True  False     True\n",
            "2  False   True     True\n",
            "3  False  False    False\n"
          ]
        }
      ],
      "source": [
        "########################################################################\n",
        "## POR HACER por los estudiantes\n",
        "## Completa todos los ... en el código debajo y quita la siguiente línea\n",
        "# raise NotImplementedError(\"Convierte a dataframe e imprìmelo.\")\n",
        "########################################################################\n",
        "\n",
        "tablaXOR = {'A': A, 'B': B, 'A xor B': AxorB}\n",
        "tablaXOR_df = pd.DataFrame(tablaXOR)\n",
        "\n",
        "print(tablaXOR_df)"
      ]
    },
    {
      "cell_type": "markdown",
      "metadata": {
        "id": "7Ow3H7vAb58o"
      },
      "source": [
        "### NAND\n",
        "\n",
        "La tabla de verdad asociada a la operación booleana `nand` es la siguiente:\n",
        "\n",
        "|  A  |  B  | A nand B|\n",
        "|:---:|:---:|:-------:|\n",
        "|  T  |  T  |    F    |\n",
        "|  T  |  F  |    T    |\n",
        "|  F  |  T  |    T    |\n",
        "|  F  |  F  |    T    |"
      ]
    },
    {
      "cell_type": "code",
      "execution_count": 13,
      "metadata": {
        "id": "WhxlOCWgcEqO"
      },
      "outputs": [
        {
          "name": "stdout",
          "output_type": "stream",
          "text": [
            "[False, True, True, True]\n"
          ]
        }
      ],
      "source": [
        "########################################################################\n",
        "## POR HACER por los estudiantes\n",
        "## Completa todos los ... en el código debajo y quita la siguiente línea\n",
        "# raise NotImplementedError(\"Aplica el operador lógico.\")\n",
        "########################################################################\n",
        "\n",
        "AnandB = [None]*4\n",
        "for i in range(4):\n",
        "  AnandB[i] = not (A[i] and B[i])\n",
        "\n",
        "print(AnandB)"
      ]
    },
    {
      "cell_type": "code",
      "execution_count": 14,
      "metadata": {
        "id": "sCPdITBccIpB"
      },
      "outputs": [
        {
          "name": "stdout",
          "output_type": "stream",
          "text": [
            "       A      B  A nand B\n",
            "0   True   True     False\n",
            "1   True  False      True\n",
            "2  False   True      True\n",
            "3  False  False      True\n"
          ]
        }
      ],
      "source": [
        "########################################################################\n",
        "## POR HACER por los estudiantes\n",
        "## Completa todos los ... en el código debajo y quita la siguiente línea\n",
        "# raise NotImplementedError(\"Convierte a dataframe e imprìmelo.\")\n",
        "########################################################################\n",
        "\n",
        "tablaNAND = {'A': A, 'B': B, 'A nand B': AnandB}\n",
        "tablaNAND_df = pd.DataFrame(tablaNAND)\n",
        "\n",
        "print(tablaNAND_df)"
      ]
    },
    {
      "cell_type": "markdown",
      "metadata": {
        "id": "-Szq9onCpiQV"
      },
      "source": [
        "**Observación:** Es equivalente a la operación AND negada."
      ]
    },
    {
      "cell_type": "code",
      "execution_count": 16,
      "metadata": {
        "id": "ek-KpmlhpiQX"
      },
      "outputs": [
        {
          "name": "stdout",
          "output_type": "stream",
          "text": [
            "       A      B  A and B\n",
            "0   True   True     True\n",
            "1   True  False    False\n",
            "2  False   True    False\n",
            "3  False  False    False\n"
          ]
        }
      ],
      "source": [
        "print(tablaAND_df)"
      ]
    },
    {
      "cell_type": "markdown",
      "metadata": {
        "id": "eYUA0sT2cM7P"
      },
      "source": [
        "### NOR\n",
        "\n",
        "La tabla de verdad asociada a la operación booleana `nor` es la siguiente:\n",
        "\n",
        "|  A  |  B  | A nor B |\n",
        "|:---:|:---:|:-------:|\n",
        "|  T  |  T  |    F    |\n",
        "|  T  |  F  |    F    |\n",
        "|  F  |  T  |    F    |\n",
        "|  F  |  F  |    T    |"
      ]
    },
    {
      "cell_type": "code",
      "execution_count": 17,
      "metadata": {
        "id": "9fj8r0D5clGt"
      },
      "outputs": [
        {
          "name": "stdout",
          "output_type": "stream",
          "text": [
            "[False, False, False, True]\n"
          ]
        }
      ],
      "source": [
        "########################################################################\n",
        "## POR HACER por los estudiantes\n",
        "## Completa todos los ... en el código debajo y quita la siguiente línea\n",
        "# raise NotImplementedError(\"Aplica el operador lógico.\")\n",
        "########################################################################\n",
        "\n",
        "AnorB = [None]*4\n",
        "for i in range(4):\n",
        "  AnorB[i] = not (A[i] or B[i])\n",
        "\n",
        "print(AnorB)"
      ]
    },
    {
      "cell_type": "code",
      "execution_count": 18,
      "metadata": {
        "id": "gi3vF7exctQO"
      },
      "outputs": [
        {
          "name": "stdout",
          "output_type": "stream",
          "text": [
            "       A      B  A nor B\n",
            "0   True   True    False\n",
            "1   True  False    False\n",
            "2  False   True    False\n",
            "3  False  False     True\n"
          ]
        }
      ],
      "source": [
        "########################################################################\n",
        "## POR HACER por los estudiantes\n",
        "## Completa todos los ... en el código debajo y quita la siguiente línea\n",
        "# raise NotImplementedError(\"Convierte a dataframe e imprìmelo.\")\n",
        "########################################################################\n",
        "\n",
        "tablaNOR = {'A': A, 'B': B, 'A nor B': AnorB}\n",
        "tablaNOR_df = pd.DataFrame(tablaNOR)\n",
        "\n",
        "print(tablaNOR_df)"
      ]
    },
    {
      "cell_type": "markdown",
      "metadata": {
        "id": "lECEXl6bpY_p"
      },
      "source": [
        "**Observación:** Es equivalente a la operación OR negada."
      ]
    },
    {
      "cell_type": "code",
      "execution_count": 20,
      "metadata": {
        "id": "Fsoh-MyopY_r"
      },
      "outputs": [
        {
          "name": "stdout",
          "output_type": "stream",
          "text": [
            "       A      B  A or B\n",
            "0   True   True    True\n",
            "1   True  False    True\n",
            "2  False   True    True\n",
            "3  False  False   False\n"
          ]
        }
      ],
      "source": [
        "print(tablaOR_df)"
      ]
    },
    {
      "cell_type": "markdown",
      "metadata": {
        "id": "93GqmOOIcbCo"
      },
      "source": [
        "### XNOR\n",
        "\n",
        "La tabla de verdad asociada a la operación booleana `xnor` es la siguiente:\n",
        "\n",
        "|  A  |  B  | A xnor B|\n",
        "|:---:|:---:|:-------:|\n",
        "|  T  |  T  |    T    |\n",
        "|  T  |  F  |    F    |\n",
        "|  F  |  T  |    F    |\n",
        "|  F  |  F  |    T    |"
      ]
    },
    {
      "cell_type": "code",
      "execution_count": 21,
      "metadata": {
        "id": "s1sOB5tMcpHb"
      },
      "outputs": [
        {
          "name": "stdout",
          "output_type": "stream",
          "text": [
            "[True, False, False, True]\n"
          ]
        }
      ],
      "source": [
        "########################################################################\n",
        "## POR HACER por los estudiantes\n",
        "## Completa todos los ... en el código debajo y quita la siguiente línea\n",
        "# raise NotImplementedError(\"Aplica el operador lógico.\")\n",
        "########################################################################\n",
        "\n",
        "AxnorB = [None]*4\n",
        "for i in range(4):\n",
        "  AxnorB[i] = A[i] == B[i]\n",
        "  #AxnorB[i] = not (A[i] ^ B[i])\n",
        "\n",
        "print(AxnorB)"
      ]
    },
    {
      "cell_type": "code",
      "execution_count": 22,
      "metadata": {
        "id": "SF-qYQ8Kcxhk"
      },
      "outputs": [
        {
          "name": "stdout",
          "output_type": "stream",
          "text": [
            "       A      B  A xnor B\n",
            "0   True   True      True\n",
            "1   True  False     False\n",
            "2  False   True     False\n",
            "3  False  False      True\n"
          ]
        }
      ],
      "source": [
        "########################################################################\n",
        "## POR HACER por los estudiantes\n",
        "## Completa todos los ... en el código debajo y quita la siguiente línea\n",
        "# raise NotImplementedError(\"Convierte a dataframe e imprìmelo.\")\n",
        "########################################################################\n",
        "\n",
        "tablaXNOR = {'A': A, 'B': B, 'A xnor B': AxnorB}\n",
        "tablaXNOR_df = pd.DataFrame(tablaXNOR)\n",
        "\n",
        "print(tablaXNOR_df)"
      ]
    },
    {
      "cell_type": "markdown",
      "metadata": {
        "id": "pJENjRHqpRre"
      },
      "source": [
        "**Observación:** Es equivalente a la operación XOR negada."
      ]
    },
    {
      "cell_type": "code",
      "execution_count": 24,
      "metadata": {
        "id": "raBv4wl6pRrg"
      },
      "outputs": [
        {
          "name": "stdout",
          "output_type": "stream",
          "text": [
            "       A      B  A xor B\n",
            "0   True   True    False\n",
            "1   True  False     True\n",
            "2  False   True     True\n",
            "3  False  False    False\n"
          ]
        }
      ],
      "source": [
        "print(tablaXOR_df)"
      ]
    },
    {
      "cell_type": "markdown",
      "metadata": {
        "id": "SD91dCPQSLWd"
      },
      "source": [
        "### Condicional (THEN)\n",
        "La tabla de verdad asociada a la operación booleana `then` es la siguiente:\n",
        "\n",
        "|  A  |  B  | A then B|\n",
        "|:---:|:---:|:-------:|\n",
        "|  T  |  T  |    T    |\n",
        "|  T  |  F  |    F    |\n",
        "|  F  |  T  |    T    |\n",
        "|  F  |  F  |    T    |"
      ]
    },
    {
      "cell_type": "code",
      "execution_count": 26,
      "metadata": {
        "id": "rPWNcobTtsot"
      },
      "outputs": [
        {
          "name": "stdout",
          "output_type": "stream",
          "text": [
            "[True, False, True, True]\n"
          ]
        }
      ],
      "source": [
        "########################################################################\n",
        "## POR HACER por los estudiantes\n",
        "## Completa todos los ... en el código debajo y quita la siguiente línea\n",
        "# raise NotImplementedError(\"Aplica el operador lógico.\")\n",
        "########################################################################\n",
        "\n",
        "AthenB = [None]*4\n",
        "for i in range(4):\n",
        "  AthenB[i] = A[i] <= B[i]\n",
        "\n",
        "print(AthenB)"
      ]
    },
    {
      "cell_type": "code",
      "execution_count": 27,
      "metadata": {
        "id": "sSJFV0TlSZts"
      },
      "outputs": [
        {
          "name": "stdout",
          "output_type": "stream",
          "text": [
            "       A      B  A then B\n",
            "0   True   True      True\n",
            "1   True  False     False\n",
            "2  False   True      True\n",
            "3  False  False      True\n"
          ]
        }
      ],
      "source": [
        "########################################################################\n",
        "## POR HACER por los estudiantes\n",
        "## Completa todos los ... en el código debajo y quita la siguiente línea\n",
        "# raise NotImplementedError(\"Convierte a dataframe e imprìmelo.\")\n",
        "########################################################################\n",
        "\n",
        "tablaTHEN = {'A': A, 'B': B, 'A then B': AthenB}\n",
        "tablaTHEN_df = pd.DataFrame(tablaTHEN)\n",
        "\n",
        "print(tablaTHEN_df)"
      ]
    },
    {
      "cell_type": "markdown",
      "metadata": {
        "id": "ClJW7Avhp3Ll"
      },
      "source": [
        "**Observación:** Es equivalente a la operación lógica $\\neg A \\vee B$"
      ]
    },
    {
      "cell_type": "code",
      "execution_count": 28,
      "metadata": {
        "id": "LhZP0fAfqBal"
      },
      "outputs": [
        {
          "name": "stdout",
          "output_type": "stream",
          "text": [
            "[True, False, True, True]\n"
          ]
        }
      ],
      "source": [
        "########################################################################\n",
        "## POR HACER por los estudiantes\n",
        "## Completa todos los ... en el código debajo y quita la siguiente línea\n",
        "# raise NotImplementedError(\"Aplica el operador lógico.\")\n",
        "########################################################################\n",
        "\n",
        "notA    = [None]*4\n",
        "notAorB = [None]*4\n",
        "\n",
        "for i in range(4):\n",
        "  notA[i]    = not A[i]\n",
        "  notAorB[i] = notA[i] or B[i]\n",
        "\n",
        "print(notAorB)"
      ]
    },
    {
      "cell_type": "code",
      "execution_count": 29,
      "metadata": {
        "id": "zVDAqVKjqb0C"
      },
      "outputs": [
        {
          "name": "stdout",
          "output_type": "stream",
          "text": [
            "       A      B  not A  not A or B\n",
            "0   True   True  False        True\n",
            "1   True  False  False       False\n",
            "2  False   True   True        True\n",
            "3  False  False   True        True\n",
            "       A      B  A then B\n",
            "0   True   True      True\n",
            "1   True  False     False\n",
            "2  False   True      True\n",
            "3  False  False      True\n"
          ]
        }
      ],
      "source": [
        "########################################################################\n",
        "## POR HACER por los estudiantes\n",
        "## Completa todos los ... en el código debajo y quita la siguiente línea\n",
        "#raise NotImplementedError(\"Convierte a dataframe e imprìmelo.\")\n",
        "########################################################################\n",
        "\n",
        "tablaCOMPUESTA = {'A': A, 'B': B, 'not A': notA, 'not A or B': notAorB}\n",
        "tablaCOMPUESTA_df = pd.DataFrame(tablaCOMPUESTA)\n",
        "\n",
        "print(tablaCOMPUESTA_df)\n",
        "print(tablaTHEN_df)"
      ]
    },
    {
      "cell_type": "markdown",
      "metadata": {
        "id": "p2GmoydHSjpO"
      },
      "source": [
        "### Bicondicional (IFF)\n",
        "La tabla de verdad asociada a la operación booleana `iff` es la siguiente:\n",
        "\n",
        "|  A  |  B  | A iff B |\n",
        "|:---:|:---:|:-------:|\n",
        "|  T  |  T  |    T    |\n",
        "|  T  |  F  |    F    |\n",
        "|  F  |  T  |    F    |\n",
        "|  F  |  F  |    T    |"
      ]
    },
    {
      "cell_type": "code",
      "execution_count": 31,
      "metadata": {
        "id": "6hylw-BnSjC4"
      },
      "outputs": [
        {
          "name": "stdout",
          "output_type": "stream",
          "text": [
            "[True, False, False, True]\n"
          ]
        }
      ],
      "source": [
        "########################################################################\n",
        "## POR HACER por los estudiantes\n",
        "## Completa todos los ... en el código debajo y quita la siguiente línea\n",
        "# raise NotImplementedError(\"Aplica el operador lógico.\")\n",
        "########################################################################\n",
        "\n",
        "AiffB = [None]*4\n",
        "for i in range(4):\n",
        "  AiffB[i] = A[i] <= B[i] and B[i] <= A[i]\n",
        "  #AiffB[i] = not(A[i] ^ B[i])\n",
        "  #AiffB[i] = A[i] == B[i]\n",
        "\n",
        "print(AiffB)"
      ]
    },
    {
      "cell_type": "code",
      "execution_count": 32,
      "metadata": {
        "id": "Edvf1SYKS10X"
      },
      "outputs": [
        {
          "name": "stdout",
          "output_type": "stream",
          "text": [
            "       A      B  A then B\n",
            "0   True   True      True\n",
            "1   True  False     False\n",
            "2  False   True     False\n",
            "3  False  False      True\n"
          ]
        }
      ],
      "source": [
        "########################################################################\n",
        "## POR HACER por los estudiantes\n",
        "## Completa todos los ... en el código debajo y quita la siguiente línea\n",
        "# raise NotImplementedError(\"Convierte a dataframe e imprìmelo.\")\n",
        "########################################################################\n",
        "\n",
        "tablaIFF = {'A': A, 'B': B, 'A then B': AiffB}\n",
        "tablaIFF_df = pd.DataFrame(tablaIFF)\n",
        "\n",
        "print(tablaIFF_df)"
      ]
    },
    {
      "cell_type": "markdown",
      "metadata": {
        "id": "QcDXprk0o7vd"
      },
      "source": [
        "**Observación:** Es equivalente a la operación XNOR."
      ]
    },
    {
      "cell_type": "code",
      "execution_count": null,
      "metadata": {
        "id": "uo8jvT-2pAQk"
      },
      "outputs": [],
      "source": [
        "print(tablaXNOR)"
      ]
    },
    {
      "cell_type": "markdown",
      "metadata": {
        "id": "j9Bvd8iaVHi2"
      },
      "source": [
        "## Ejercicios de Lógica Proposicional\n",
        "\n",
        "Escribe código que obtenga los valores de verdad de las siguientes proposiciones:\n",
        "1. $a \\wedge \\neg b$\n",
        "2. $(a \\wedge b) \\wedge \\neg a$\n",
        "3. $\\neg p \\vee \\neg(q \\wedge r)$\n",
        "4. $\\neg (p \\wedge q) \\vee (\\neg q \\vee r)$\n",
        "\n",
        "Recordatorio: Usar las variables `A` y `B` cuando se usen dos proposiciones y `P`, `Q`, `R` cuando se usen tres proposiciones"
      ]
    },
    {
      "cell_type": "code",
      "execution_count": 35,
      "metadata": {
        "id": "J_oTs2OPXoFv"
      },
      "outputs": [
        {
          "name": "stdout",
          "output_type": "stream",
          "text": [
            "[False, True, False, False]\n",
            "       A  NOT B  A and NOT B\n",
            "0   True   True        False\n",
            "1   True  False         True\n",
            "2  False   True        False\n",
            "3  False  False        False\n"
          ]
        }
      ],
      "source": [
        "########################################################################\n",
        "## POR HACER por los estudiantes\n",
        "## Escribe el código que genere la tabla de verdad para el ejercicio 1)\n",
        "#raise NotImplementedError(\"Contesta el ejercicio 1.\")\n",
        "########################################################################\n",
        "notB    = [None]*4\n",
        "AandNotB = [None]*4\n",
        "\n",
        "for i in range(4):\n",
        "  notB[i]    = not B[i]\n",
        "  AandNotB[i] = A[i] and notB[i]\n",
        "\n",
        "print(AandNotB)\n",
        "\n",
        "tablaAandNotB = {'A': A, 'NOT B': B, 'A and NOT B': AandNotB}\n",
        "tablaAandNotB_df = pd.DataFrame(tablaAandNotB)\n",
        "\n",
        "print(tablaAandNotB_df)"
      ]
    },
    {
      "cell_type": "code",
      "execution_count": 38,
      "metadata": {
        "id": "jG0TZORFXojs"
      },
      "outputs": [
        {
          "name": "stdout",
          "output_type": "stream",
          "text": [
            "[False, False, False, False]\n",
            "       A      B  A and B  Not A  (A and B) and Not A\n",
            "0   True   True     True  False                False\n",
            "1   True  False    False  False                False\n",
            "2  False   True    False   True                False\n",
            "3  False  False    False   True                False\n"
          ]
        }
      ],
      "source": [
        "########################################################################\n",
        "## POR HACER por los estudiantes\n",
        "## Escribe el código que genere la tabla de verdad para el ejercicio 2)\n",
        "# raise NotImplementedError(\"Contesta el ejercicio 2.\")\n",
        "########################################################################\n",
        "\n",
        "notA    = [None]*4\n",
        "AandB = [None]*4\n",
        "AandBandNotA = [None]*4\n",
        "\n",
        "for i in range(4):\n",
        "  notA[i]    = not A[i]\n",
        "  AandB[i] = A[i] and B[i]\n",
        "  AandBandNotA[i] = AandB[i] and notA[i]\n",
        "\n",
        "print(AandBandNotA)\n",
        "\n",
        "tablaAandBandNotA = {'A': A, 'B': B, 'A and B': AandB, 'Not A': notA, '(A and B) and Not A': AandBandNotA}\n",
        "tablaAandBandNotA_df = pd.DataFrame(tablaAandBandNotA)\n",
        "\n",
        "print(tablaAandBandNotA_df)"
      ]
    },
    {
      "cell_type": "code",
      "execution_count": 43,
      "metadata": {
        "id": "e8q47pN6Xozl"
      },
      "outputs": [
        {
          "name": "stdout",
          "output_type": "stream",
          "text": [
            "[False, False, True, True, True, True, True, True]\n",
            "       P      Q      R  NOT P  Q and R  Not Q and R  Not P or Not(Q and R)\n",
            "0   True   True   True  False     True        False                  False\n",
            "1   True   True  False  False    False         True                  False\n",
            "2   True  False   True  False    False         True                   True\n",
            "3   True  False  False  False    False         True                   True\n",
            "4  False   True   True   True     True        False                   True\n",
            "5  False   True  False   True    False         True                   True\n",
            "6  False  False   True   True    False         True                   True\n",
            "7  False  False  False   True    False         True                   True\n"
          ]
        }
      ],
      "source": [
        "########################################################################\n",
        "## POR HACER por los estudiantes\n",
        "## Escribe el código que genere la tabla de verdad para el ejercicio 3)\n",
        "# raise NotImplementedError(\"Contesta el ejercicio 3.\")\n",
        "########################################################################\n",
        "\n",
        "NotP    = [None]*8\n",
        "QandR = [None]*8\n",
        "NotQandR = [None]*8\n",
        "NotPOrNotQandR = [None]*8\n",
        "\n",
        "for i in range(8):\n",
        "  NotP[i]    = not P[i]\n",
        "  QandR[i] = Q[i] and R[i]\n",
        "  NotQandR[i] = not QandR[i]\n",
        "  NotPOrNotQandR[i] = NotP[i] or notA[i]\n",
        "\n",
        "print(NotPOrNotQandR)\n",
        "\n",
        "tablaNotPOrNotQandR = {'P': P, 'Q': Q, 'R': R, 'NOT P': NotP, 'Q and R': QandR,'Not Q and R': NotQandR, 'Not P or Not(Q and R)': NotPOrNotQandR}\n",
        "tablaNotPOrNotQandR_df = pd.DataFrame(tablaNotPOrNotQandR)\n",
        "\n",
        "print(tablaNotPOrNotQandR_df)"
      ]
    },
    {
      "cell_type": "code",
      "execution_count": 44,
      "metadata": {
        "id": "CP8aUinZXpYR"
      },
      "outputs": [
        {
          "name": "stdout",
          "output_type": "stream",
          "text": [
            "True\n",
            "       P      Q      R  P and Q  Not(P and Q)  Not Q  Not Q or R  \\\n",
            "0   True   True   True     True         False  False        True   \n",
            "1   True   True  False     True         False  False       False   \n",
            "2   True  False   True    False          True   True        True   \n",
            "3   True  False  False    False          True   True        True   \n",
            "4  False   True   True    False          True  False        True   \n",
            "5  False   True  False    False          True  False       False   \n",
            "6  False  False   True    False          True   True        True   \n",
            "7  False  False  False    False          True   True        True   \n",
            "\n",
            "   Not(P and Q) or (Not Q or R)  \n",
            "0                          True  \n",
            "1                          True  \n",
            "2                          True  \n",
            "3                          True  \n",
            "4                          True  \n",
            "5                          True  \n",
            "6                          True  \n",
            "7                          True  \n"
          ]
        }
      ],
      "source": [
        "########################################################################\n",
        "## POR HACER por los estudiantes\n",
        "## Escribe el código que genere la tabla de verdad para el ejercicio 4)\n",
        "# raise NotImplementedError(\"Contesta el ejercicio 4.\")\n",
        "########################################################################\n",
        "\n",
        "PandQ    = [None]*8\n",
        "NotPandQ = [None]*8\n",
        "NotQ = [None]*8\n",
        "NotQOrR = [None]*8\n",
        "NotPandQOrNotQOrR = [None]*8\n",
        "\n",
        "for i in range(8):\n",
        "  PandQ[i]    = P[i] and Q[i]\n",
        "  NotPandQ[i] = not PandQ[i]\n",
        "  NotQ[i] = not Q[i]\n",
        "  NotQOrR[i] = NotQ[i] or R[i]\n",
        "  NotPandQOrNotQOrR = NotPandQ[i] or NotQOrR[i]\n",
        "\n",
        "print(NotPandQOrNotQOrR)\n",
        "\n",
        "tablaNotPandQOrNotQOrR = {'P': P, 'Q': Q, 'R': R, 'P and Q': PandQ, 'Not(P and Q)': NotPandQ,'Not Q': NotQ, 'Not Q or R': NotQOrR, 'Not(P and Q) or (Not Q or R)': NotPandQOrNotQOrR}\n",
        "tablaNotPandQOrNotQOrR_df = pd.DataFrame(tablaNotPandQOrNotQOrR)\n",
        "\n",
        "print(tablaNotPandQOrNotQOrR_df)"
      ]
    },
    {
      "cell_type": "markdown",
      "metadata": {
        "id": "JTDO1wsdgI6I"
      },
      "source": [
        "# Teoría de Conjuntos"
      ]
    },
    {
      "cell_type": "markdown",
      "metadata": {
        "id": "79RSrJuVzMl7"
      },
      "source": [
        "## Repaso de Teoría de Conjuntos\n",
        "\n",
        "Recordemos que las operaciones en conjuntos son:\n",
        "1. Cardinalidad\n",
        "2. Complemento (equivalente al NOT)\n",
        "3. Igualdad (equivalente al Buffer)\n",
        "4. Intersección (equivalente al AND)\n",
        "5. Unión (equivalente al OR)\n",
        "6. Diferencia\n",
        "7. Diferencia simétrica (equivalente al XOR)\n",
        "8. Producto Cartesiano\n",
        "\n",
        "Para repasar estos conceptos, vamos a crear:\n",
        "- Nuestro conjunto universo `setU` formado por todos los números naturales del 1 al 100\n",
        "- `setA` formado por todos los números pares (es decir, múltiplos de 2) del universo\n",
        "- `setB` formado por todos los números que son múltiplos de 3\n",
        "- `setC` formado por todos los números que son múltiplos de 5"
      ]
    },
    {
      "cell_type": "code",
      "execution_count": 47,
      "metadata": {
        "id": "BNhJ0tQygh5I"
      },
      "outputs": [],
      "source": [
        "########################################################################\n",
        "## POR HACER por los estudiantes\n",
        "## Completa todos los ... en el código debajo y quita la siguiente línea\n",
        "# raise NotImplementedError(\"Construye los conjuntos mencionados arriba.\")\n",
        "########################################################################\n",
        "\n",
        "setU = []\n",
        "setA = []\n",
        "setB = []\n",
        "setC = []\n",
        "\n",
        "for i in range(101):\n",
        "  setU.append(i)\n",
        "  if(i % 2 == 0):\n",
        "    setA.append(i)\n",
        "  if(i % 3 == 0):\n",
        "    setB.append(i)\n",
        "  if(i % 5 == 0):\n",
        "    setC.append(i)\n",
        "\n",
        "setU = set(setU)\n",
        "setA = set(setA)\n",
        "setB = set(setB)\n",
        "setC = set(setC)"
      ]
    },
    {
      "cell_type": "markdown",
      "metadata": {
        "id": "TXcpGI_Wxo0a"
      },
      "source": [
        "### Cardinalidad\n",
        "\n",
        "Nos devuelve el tamaño del conjunto. Para obtener la cardinalidad en Python nos apoyamos de la función `len(...)`.\n",
        "\n",
        "Escribe un código que nos muestre el tamaño del conjunto `setC`."
      ]
    },
    {
      "cell_type": "code",
      "execution_count": 48,
      "metadata": {
        "id": "j3HtDGRuyAAh"
      },
      "outputs": [
        {
          "data": {
            "text/plain": [
              "21"
            ]
          },
          "execution_count": 48,
          "metadata": {},
          "output_type": "execute_result"
        }
      ],
      "source": [
        "########################################################################\n",
        "## POR HACER por los estudiantes\n",
        "## Completa todos los ... en el código debajo y quita la siguiente línea\n",
        "# raise NotImplementedError(\"Obtén la cardinalidad de setC.\")\n",
        "########################################################################\n",
        "\n",
        "len(setC)"
      ]
    },
    {
      "cell_type": "markdown",
      "metadata": {
        "id": "iyK49QjbmEv8"
      },
      "source": [
        "### Intersección (equivalente al AND)\n",
        "\n",
        "Nos devuelve los valores que estén tanto en A como en B. Para usar esta operación en Python, utilizamos el operador `&`.\n",
        "\n",
        "Escribe un código que una los elementos de `setA` con los de `setB`. ¿Qué características tienen estos elementos?"
      ]
    },
    {
      "cell_type": "code",
      "execution_count": 49,
      "metadata": {
        "id": "KD7yY3bvvoxe"
      },
      "outputs": [
        {
          "data": {
            "text/plain": [
              "{0, 6, 12, 18, 24, 30, 36, 42, 48, 54, 60, 66, 72, 78, 84, 90, 96}"
            ]
          },
          "execution_count": 49,
          "metadata": {},
          "output_type": "execute_result"
        }
      ],
      "source": [
        "########################################################################\n",
        "## POR HACER por los estudiantes\n",
        "## Completa todos los ... en el código debajo y quita la siguiente línea\n",
        "# raise NotImplementedError(\"Realiza la intersección de conjuntos setA con setB.\")\n",
        "########################################################################\n",
        "\n",
        "setA & setB"
      ]
    },
    {
      "cell_type": "markdown",
      "metadata": {
        "id": "werDSgVfmOcL"
      },
      "source": [
        "### Unión (equivalente al OR)\n",
        "\n",
        "Nos devuelve los valores que estén en A o que estén en B (o ambos). Para usar esta operación en Python, utilizamos el operador `|`.\n",
        "\n",
        "Escribe un código que te una los elementos del conjunto `setB` con el conjunto `setC`."
      ]
    },
    {
      "cell_type": "code",
      "execution_count": 50,
      "metadata": {
        "id": "xam2p2c0vjqn"
      },
      "outputs": [
        {
          "data": {
            "text/plain": [
              "{0,\n",
              " 3,\n",
              " 5,\n",
              " 6,\n",
              " 9,\n",
              " 10,\n",
              " 12,\n",
              " 15,\n",
              " 18,\n",
              " 20,\n",
              " 21,\n",
              " 24,\n",
              " 25,\n",
              " 27,\n",
              " 30,\n",
              " 33,\n",
              " 35,\n",
              " 36,\n",
              " 39,\n",
              " 40,\n",
              " 42,\n",
              " 45,\n",
              " 48,\n",
              " 50,\n",
              " 51,\n",
              " 54,\n",
              " 55,\n",
              " 57,\n",
              " 60,\n",
              " 63,\n",
              " 65,\n",
              " 66,\n",
              " 69,\n",
              " 70,\n",
              " 72,\n",
              " 75,\n",
              " 78,\n",
              " 80,\n",
              " 81,\n",
              " 84,\n",
              " 85,\n",
              " 87,\n",
              " 90,\n",
              " 93,\n",
              " 95,\n",
              " 96,\n",
              " 99,\n",
              " 100}"
            ]
          },
          "execution_count": 50,
          "metadata": {},
          "output_type": "execute_result"
        }
      ],
      "source": [
        "########################################################################\n",
        "## POR HACER por los estudiantes\n",
        "## Completa todos los ... en el código debajo y quita la siguiente línea\n",
        "# raise NotImplementedError(\"Realiza la unión de conjuntos setB con setC.\")\n",
        "########################################################################\n",
        "\n",
        "setB | setC"
      ]
    },
    {
      "cell_type": "markdown",
      "metadata": {
        "id": "gGbQveZgmQfM"
      },
      "source": [
        "### Diferencia\n",
        "\n",
        "La diferencia de A con B ($A - B$) nos devuelven los valores que estén en A pero que no estén en B. Para usar esta operación en Python, utilizamos el método `.difference(...)`, donde en colocaremos el conjunto que queramos restar.\n",
        "\n",
        "Escribe un código que te regrese la diferencia del conjunto `setU` con el conjunto `setA`. ¿Qué valores te están dando?"
      ]
    },
    {
      "cell_type": "code",
      "execution_count": 51,
      "metadata": {
        "id": "ZXtYj8faukJ9"
      },
      "outputs": [
        {
          "data": {
            "text/plain": [
              "{1,\n",
              " 3,\n",
              " 5,\n",
              " 7,\n",
              " 9,\n",
              " 11,\n",
              " 13,\n",
              " 15,\n",
              " 17,\n",
              " 19,\n",
              " 21,\n",
              " 23,\n",
              " 25,\n",
              " 27,\n",
              " 29,\n",
              " 31,\n",
              " 33,\n",
              " 35,\n",
              " 37,\n",
              " 39,\n",
              " 41,\n",
              " 43,\n",
              " 45,\n",
              " 47,\n",
              " 49,\n",
              " 51,\n",
              " 53,\n",
              " 55,\n",
              " 57,\n",
              " 59,\n",
              " 61,\n",
              " 63,\n",
              " 65,\n",
              " 67,\n",
              " 69,\n",
              " 71,\n",
              " 73,\n",
              " 75,\n",
              " 77,\n",
              " 79,\n",
              " 81,\n",
              " 83,\n",
              " 85,\n",
              " 87,\n",
              " 89,\n",
              " 91,\n",
              " 93,\n",
              " 95,\n",
              " 97,\n",
              " 99}"
            ]
          },
          "execution_count": 51,
          "metadata": {},
          "output_type": "execute_result"
        }
      ],
      "source": [
        "########################################################################\n",
        "## POR HACER por los estudiantes\n",
        "## Completa todos los ... en el código debajo y quita la siguiente línea\n",
        "# raise NotImplementedError(\"Realiza la resta de conjuntos setU-setA.\")\n",
        "########################################################################\n",
        "\n",
        "setU.difference(setA)"
      ]
    },
    {
      "cell_type": "markdown",
      "metadata": {
        "id": "koLsEq4lwBzv"
      },
      "source": [
        "Escribe un código que te regrese la diferencia del conjunto `setA` con el conjunto `setC`. ¿Qué valores te están dando?"
      ]
    },
    {
      "cell_type": "code",
      "execution_count": 52,
      "metadata": {
        "id": "pFAXPBbjwLyY"
      },
      "outputs": [
        {
          "data": {
            "text/plain": [
              "{2,\n",
              " 4,\n",
              " 6,\n",
              " 8,\n",
              " 12,\n",
              " 14,\n",
              " 16,\n",
              " 18,\n",
              " 22,\n",
              " 24,\n",
              " 26,\n",
              " 28,\n",
              " 32,\n",
              " 34,\n",
              " 36,\n",
              " 38,\n",
              " 42,\n",
              " 44,\n",
              " 46,\n",
              " 48,\n",
              " 52,\n",
              " 54,\n",
              " 56,\n",
              " 58,\n",
              " 62,\n",
              " 64,\n",
              " 66,\n",
              " 68,\n",
              " 72,\n",
              " 74,\n",
              " 76,\n",
              " 78,\n",
              " 82,\n",
              " 84,\n",
              " 86,\n",
              " 88,\n",
              " 92,\n",
              " 94,\n",
              " 96,\n",
              " 98}"
            ]
          },
          "execution_count": 52,
          "metadata": {},
          "output_type": "execute_result"
        }
      ],
      "source": [
        "########################################################################\n",
        "## POR HACER por los estudiantes\n",
        "## Completa todos los ... en el código debajo y quita la siguiente línea\n",
        "# raise NotImplementedError(\"Realiza la resta de conjuntos setA-setC.\")\n",
        "########################################################################\n",
        "\n",
        "setA.difference(setC)"
      ]
    },
    {
      "cell_type": "markdown",
      "metadata": {
        "id": "vzukbXpemSyD"
      },
      "source": [
        "###Diferencia Simétrica (equivalente al XOR)\n",
        "\n",
        "La diferencia de A con B ($A \\triangle B$) nos devuelven los valores que estén en A ó que estén B pero que no estén en ambos. Para usar esta operación en Python, utilizamos el método `.symmetric_difference(...)`, donde en colocaremos el conjunto que queramos restar.\n",
        "\n",
        "Escribe un código que te regrese la diferencia simétrica del conjunto `setA` con el conjunto `setC`. ¿Qué valores te están dando? ¿Son distintos a lo que obtuvimos en la celda anterior?"
      ]
    },
    {
      "cell_type": "code",
      "execution_count": 53,
      "metadata": {
        "id": "otjY_Q7IwVKN"
      },
      "outputs": [
        {
          "data": {
            "text/plain": [
              "{2,\n",
              " 4,\n",
              " 5,\n",
              " 6,\n",
              " 8,\n",
              " 12,\n",
              " 14,\n",
              " 15,\n",
              " 16,\n",
              " 18,\n",
              " 22,\n",
              " 24,\n",
              " 25,\n",
              " 26,\n",
              " 28,\n",
              " 32,\n",
              " 34,\n",
              " 35,\n",
              " 36,\n",
              " 38,\n",
              " 42,\n",
              " 44,\n",
              " 45,\n",
              " 46,\n",
              " 48,\n",
              " 52,\n",
              " 54,\n",
              " 55,\n",
              " 56,\n",
              " 58,\n",
              " 62,\n",
              " 64,\n",
              " 65,\n",
              " 66,\n",
              " 68,\n",
              " 72,\n",
              " 74,\n",
              " 75,\n",
              " 76,\n",
              " 78,\n",
              " 82,\n",
              " 84,\n",
              " 85,\n",
              " 86,\n",
              " 88,\n",
              " 92,\n",
              " 94,\n",
              " 95,\n",
              " 96,\n",
              " 98}"
            ]
          },
          "execution_count": 53,
          "metadata": {},
          "output_type": "execute_result"
        }
      ],
      "source": [
        "########################################################################\n",
        "## POR HACER por los estudiantes\n",
        "## Completa todos los ... en el código debajo y quita la siguiente línea\n",
        "# raise NotImplementedError(\"Realiza la resta simétrica de conjuntos setA y setC.\")\n",
        "########################################################################\n",
        "\n",
        "setA.symmetric_difference(setC)"
      ]
    },
    {
      "cell_type": "markdown",
      "metadata": {
        "id": "SC-hTCOezlh1"
      },
      "source": [
        "### Producto Cartesiano\n",
        "\n",
        "El producto cartesiano nos arroja los pares ordenados de los elementos de dos conjuntos. En Python nos apoyaremos de la función `product(..., ...)` de la paquetería `itertools` para obtener el producto cartesiano.\n",
        "\n",
        "Para que no sea tan grande el resultado, corre la siguiente celda para obtener `setD` con `setE` ($D \\times E$) y después implementa el producto cartesiano entre estos dos nuevos conjuntos."
      ]
    },
    {
      "cell_type": "code",
      "execution_count": 54,
      "metadata": {
        "id": "y6rekQIi4E9T"
      },
      "outputs": [],
      "source": [
        "setD = set([\"Alberto\",\"Beatriz\",\"Carlos\",\"Diana\"])\n",
        "setE = set([\"amarillo\",\"rojo\",\"azul\"])"
      ]
    },
    {
      "cell_type": "code",
      "execution_count": 55,
      "metadata": {
        "id": "frqEafsazlFz"
      },
      "outputs": [
        {
          "data": {
            "text/plain": [
              "{('Alberto', 'amarillo'),\n",
              " ('Alberto', 'azul'),\n",
              " ('Alberto', 'rojo'),\n",
              " ('Beatriz', 'amarillo'),\n",
              " ('Beatriz', 'azul'),\n",
              " ('Beatriz', 'rojo'),\n",
              " ('Carlos', 'amarillo'),\n",
              " ('Carlos', 'azul'),\n",
              " ('Carlos', 'rojo'),\n",
              " ('Diana', 'amarillo'),\n",
              " ('Diana', 'azul'),\n",
              " ('Diana', 'rojo')}"
            ]
          },
          "execution_count": 55,
          "metadata": {},
          "output_type": "execute_result"
        }
      ],
      "source": [
        "########################################################################\n",
        "## POR HACER por los estudiantes\n",
        "## Completa todos los ... en el código debajo y quita la siguiente línea\n",
        "# raise NotImplementedError(\"Obtén el producto cartesiano entre los conjuntos setD y setC.\")\n",
        "########################################################################\n",
        "\n",
        "productoCartesianoDE = []\n",
        "\n",
        "for element in itertools.product(setD, setE):\n",
        "    productoCartesianoDE.append(element)\n",
        "\n",
        "productoCartesianoDE = set(productoCartesianoDE)\n",
        "\n",
        "productoCartesianoDE"
      ]
    },
    {
      "cell_type": "markdown",
      "metadata": {
        "id": "ycDNUtE95JH3"
      },
      "source": [
        "Corre la siguiente celda para obtener $E \\times D$. ¿Es igual este producto a lo que obtuvimos anteriormente?"
      ]
    },
    {
      "cell_type": "code",
      "execution_count": 56,
      "metadata": {
        "id": "p0VmEUKu4ZlA"
      },
      "outputs": [
        {
          "data": {
            "text/plain": [
              "{('amarillo', 'Alberto'),\n",
              " ('amarillo', 'Beatriz'),\n",
              " ('amarillo', 'Carlos'),\n",
              " ('amarillo', 'Diana'),\n",
              " ('azul', 'Alberto'),\n",
              " ('azul', 'Beatriz'),\n",
              " ('azul', 'Carlos'),\n",
              " ('azul', 'Diana'),\n",
              " ('rojo', 'Alberto'),\n",
              " ('rojo', 'Beatriz'),\n",
              " ('rojo', 'Carlos'),\n",
              " ('rojo', 'Diana')}"
            ]
          },
          "execution_count": 56,
          "metadata": {},
          "output_type": "execute_result"
        }
      ],
      "source": [
        "########################################################################\n",
        "# Sólo ejecuta esta celda. No es necesario escribir nada.\n",
        "########################################################################\n",
        "\n",
        "productoCartesianoED = []\n",
        "\n",
        "for element in itertools.product(setE, setD):\n",
        "    productoCartesianoED.append(element)\n",
        "\n",
        "productoCartesianoED = set(productoCartesianoED)\n",
        "\n",
        "productoCartesianoED"
      ]
    },
    {
      "cell_type": "markdown",
      "metadata": {
        "id": "K9xoANnt53f9"
      },
      "source": [
        "Escribe en la siguiente celda el código que usarías para comparar ambos conjuntos y determinar si son los mismos o no."
      ]
    },
    {
      "cell_type": "code",
      "execution_count": 57,
      "metadata": {
        "id": "clCKfT0p41lc"
      },
      "outputs": [
        {
          "data": {
            "text/plain": [
              "False"
            ]
          },
          "execution_count": 57,
          "metadata": {},
          "output_type": "execute_result"
        }
      ],
      "source": [
        "productoCartesianoDE == productoCartesianoED"
      ]
    }
  ],
  "metadata": {
    "colab": {
      "authorship_tag": "ABX9TyN2MhUoyuQYs8qZGjJBA2uI",
      "include_colab_link": true,
      "name": "Bootcamp de Introducción a la Programación - Matemáticas Discretas",
      "provenance": [],
      "toc_visible": true
    },
    "kernelspec": {
      "display_name": "Python 3",
      "name": "python3"
    },
    "language_info": {
      "codemirror_mode": {
        "name": "ipython",
        "version": 3
      },
      "file_extension": ".py",
      "mimetype": "text/x-python",
      "name": "python",
      "nbconvert_exporter": "python",
      "pygments_lexer": "ipython3",
      "version": "3.10.2"
    }
  },
  "nbformat": 4,
  "nbformat_minor": 0
}
